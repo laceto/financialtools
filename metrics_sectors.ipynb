{
 "cells": [
  {
   "cell_type": "code",
   "execution_count": 1,
   "id": "c0ff0542",
   "metadata": {},
   "outputs": [],
   "source": [
    "from financialtools.utils import get_tickers\n",
    "import polars as pl\n",
    "from financialtools.wrappers import read_financial_results\n",
    "\n"
   ]
  },
  {
   "cell_type": "code",
   "execution_count": 2,
   "id": "14f3b202",
   "metadata": {},
   "outputs": [],
   "source": [
    "tickers_sector = get_tickers(columns=['ticker', \"sector\"])\n",
    "metrics = read_financial_results()[0]\n"
   ]
  },
  {
   "cell_type": "code",
   "execution_count": 3,
   "id": "e81a37bd",
   "metadata": {},
   "outputs": [],
   "source": [
    "metrics = metrics.melt(\n",
    "    id_vars=['ticker', 'time'],\n",
    "    var_name='metrics',\n",
    "    value_name='value'\n",
    ")"
   ]
  },
  {
   "cell_type": "code",
   "execution_count": 4,
   "id": "44c98344",
   "metadata": {},
   "outputs": [],
   "source": [
    "metrics_sector = (\n",
    "    pl.from_pandas(\n",
    "        metrics.merge(tickers_sector.to_pandas(), on='ticker', how='left')\n",
    "        )\n",
    "    .group_by([\"sector\", 'metrics', \"time\"])\n",
    "    .agg(pl.col(\"value\").mean().alias(\"market_value\"))\n",
    "    .sort([\"sector\", \"metrics\", 'time'], descending=[False, False, True])\n",
    ")"
   ]
  },
  {
   "cell_type": "code",
   "execution_count": 5,
   "id": "7e917cd7",
   "metadata": {},
   "outputs": [
    {
     "data": {
      "text/html": [
       "<div><style>\n",
       ".dataframe > thead > tr,\n",
       ".dataframe > tbody > tr {\n",
       "  text-align: right;\n",
       "  white-space: pre-wrap;\n",
       "}\n",
       "</style>\n",
       "<small>shape: (1_133, 4)</small><table border=\"1\" class=\"dataframe\"><thead><tr><th>sector</th><th>metrics</th><th>time</th><th>market_value</th></tr><tr><td>str</td><td>str</td><td>i64</td><td>f64</td></tr></thead><tbody><tr><td>&quot;Commercial Services&quot;</td><td>&quot;CurrentRatio&quot;</td><td>2024</td><td>1.387463</td></tr><tr><td>&quot;Commercial Services&quot;</td><td>&quot;CurrentRatio&quot;</td><td>2023</td><td>1.5153</td></tr><tr><td>&quot;Commercial Services&quot;</td><td>&quot;CurrentRatio&quot;</td><td>2022</td><td>1.74355</td></tr><tr><td>&quot;Commercial Services&quot;</td><td>&quot;CurrentRatio&quot;</td><td>2021</td><td>1.6717</td></tr><tr><td>&quot;Commercial Services&quot;</td><td>&quot;CurrentRatio&quot;</td><td>2020</td><td>1.1447</td></tr><tr><td>&hellip;</td><td>&hellip;</td><td>&hellip;</td><td>&hellip;</td></tr><tr><td>&quot;Utilities&quot;</td><td>&quot;ROE&quot;</td><td>2024</td><td>0.132005</td></tr><tr><td>&quot;Utilities&quot;</td><td>&quot;ROE&quot;</td><td>2023</td><td>0.059025</td></tr><tr><td>&quot;Utilities&quot;</td><td>&quot;ROE&quot;</td><td>2022</td><td>0.06997</td></tr><tr><td>&quot;Utilities&quot;</td><td>&quot;ROE&quot;</td><td>2021</td><td>0.104995</td></tr><tr><td>&quot;Utilities&quot;</td><td>&quot;ROE&quot;</td><td>2020</td><td>null</td></tr></tbody></table></div>"
      ],
      "text/plain": [
       "shape: (1_133, 4)\n",
       "┌─────────────────────┬──────────────┬──────┬──────────────┐\n",
       "│ sector              ┆ metrics      ┆ time ┆ market_value │\n",
       "│ ---                 ┆ ---          ┆ ---  ┆ ---          │\n",
       "│ str                 ┆ str          ┆ i64  ┆ f64          │\n",
       "╞═════════════════════╪══════════════╪══════╪══════════════╡\n",
       "│ Commercial Services ┆ CurrentRatio ┆ 2024 ┆ 1.387463     │\n",
       "│ Commercial Services ┆ CurrentRatio ┆ 2023 ┆ 1.5153       │\n",
       "│ Commercial Services ┆ CurrentRatio ┆ 2022 ┆ 1.74355      │\n",
       "│ Commercial Services ┆ CurrentRatio ┆ 2021 ┆ 1.6717       │\n",
       "│ Commercial Services ┆ CurrentRatio ┆ 2020 ┆ 1.1447       │\n",
       "│ …                   ┆ …            ┆ …    ┆ …            │\n",
       "│ Utilities           ┆ ROE          ┆ 2024 ┆ 0.132005     │\n",
       "│ Utilities           ┆ ROE          ┆ 2023 ┆ 0.059025     │\n",
       "│ Utilities           ┆ ROE          ┆ 2022 ┆ 0.06997      │\n",
       "│ Utilities           ┆ ROE          ┆ 2021 ┆ 0.104995     │\n",
       "│ Utilities           ┆ ROE          ┆ 2020 ┆ null         │\n",
       "└─────────────────────┴──────────────┴──────┴──────────────┘"
      ]
     },
     "execution_count": 5,
     "metadata": {},
     "output_type": "execute_result"
    }
   ],
   "source": [
    "metrics_sector"
   ]
  },
  {
   "cell_type": "code",
   "execution_count": 6,
   "id": "475d8020",
   "metadata": {},
   "outputs": [],
   "source": [
    "metrics_sector.to_pandas().to_excel(\"financial_data/metrics_by_sectors.xlsx\", index=False)"
   ]
  },
  {
   "cell_type": "code",
   "execution_count": 33,
   "id": "72d208d0",
   "metadata": {},
   "outputs": [],
   "source": [
    "eval_metrics = (\n",
    "    pl.from_pandas(\n",
    "        read_financial_results()[1]\n",
    "        .melt(\n",
    "            id_vars=['ticker', 'time'],\n",
    "            var_name='eval_metrics',\n",
    "            value_name='market_value'\n",
    "        )\n",
    "        .merge(tickers_sector.to_pandas(), on='ticker', how='left')\n",
    "        )\n",
    "    .group_by([\"sector\", 'eval_metrics', \"time\"])\n",
    "    .agg(pl.col(\"market_value\").mean().alias(\"market_value\"))\n",
    "    .sort([\"sector\", \"eval_metrics\", 'time'], descending=[False, False, True])\n",
    "    .to_pandas()\n",
    "    )\n",
    "\n"
   ]
  },
  {
   "cell_type": "code",
   "execution_count": 34,
   "id": "0c7f1154",
   "metadata": {},
   "outputs": [],
   "source": [
    "eval_metrics.to_excel(\"financial_data/eval_metrics_by_sectors.xlsx\", index=False)"
   ]
  }
 ],
 "metadata": {
  "kernelspec": {
   "display_name": "venv",
   "language": "python",
   "name": "python3"
  },
  "language_info": {
   "codemirror_mode": {
    "name": "ipython",
    "version": 3
   },
   "file_extension": ".py",
   "mimetype": "text/x-python",
   "name": "python",
   "nbconvert_exporter": "python",
   "pygments_lexer": "ipython3",
   "version": "3.12.6"
  }
 },
 "nbformat": 4,
 "nbformat_minor": 5
}
