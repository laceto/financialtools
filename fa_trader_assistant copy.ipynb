{
 "cells": [
  {
   "cell_type": "code",
   "execution_count": 14,
   "id": "92d289c0",
   "metadata": {},
   "outputs": [],
   "source": [
    "\n",
    "from dotenv import load_dotenv, find_dotenv \n",
    "load_dotenv()\n",
    "\n",
    "import pandas as pd\n",
    "import polars as pl\n",
    "from financialtools.utils import dataframe_to_json, get_fin_data_year\n",
    "from financialtools.wrappers import read_financial_results"
   ]
  },
  {
   "cell_type": "code",
   "execution_count": 15,
   "id": "9a9d40dd",
   "metadata": {},
   "outputs": [
    {
     "data": {
      "text/html": [
       "<div>\n",
       "<style scoped>\n",
       "    .dataframe tbody tr th:only-of-type {\n",
       "        vertical-align: middle;\n",
       "    }\n",
       "\n",
       "    .dataframe tbody tr th {\n",
       "        vertical-align: top;\n",
       "    }\n",
       "\n",
       "    .dataframe thead th {\n",
       "        text-align: right;\n",
       "    }\n",
       "</style>\n",
       "<table border=\"1\" class=\"dataframe\">\n",
       "  <thead>\n",
       "    <tr style=\"text-align: right;\">\n",
       "      <th></th>\n",
       "      <th>ticker</th>\n",
       "      <th>time</th>\n",
       "      <th>GrossMargin</th>\n",
       "      <th>OperatingMargin</th>\n",
       "      <th>NetProfitMargin</th>\n",
       "      <th>EBITDAMargin</th>\n",
       "      <th>ROA</th>\n",
       "      <th>ROE</th>\n",
       "      <th>FCFToRevenue</th>\n",
       "      <th>FCFYield</th>\n",
       "      <th>FCFtoDebt</th>\n",
       "      <th>DebtToEquity</th>\n",
       "      <th>CurrentRatio</th>\n",
       "    </tr>\n",
       "  </thead>\n",
       "  <tbody>\n",
       "    <tr>\n",
       "      <th>0</th>\n",
       "      <td>ISP.MI</td>\n",
       "      <td>2020</td>\n",
       "      <td>NaN</td>\n",
       "      <td>NaN</td>\n",
       "      <td>NaN</td>\n",
       "      <td>NaN</td>\n",
       "      <td>NaN</td>\n",
       "      <td>NaN</td>\n",
       "      <td>NaN</td>\n",
       "      <td>NaN</td>\n",
       "      <td>NaN</td>\n",
       "      <td>NaN</td>\n",
       "      <td>NaN</td>\n",
       "    </tr>\n",
       "    <tr>\n",
       "      <th>1</th>\n",
       "      <td>ISP.MI</td>\n",
       "      <td>2021</td>\n",
       "      <td>NaN</td>\n",
       "      <td>NaN</td>\n",
       "      <td>0.1911</td>\n",
       "      <td>NaN</td>\n",
       "      <td>0.0039</td>\n",
       "      <td>0.0656</td>\n",
       "      <td>0.3157</td>\n",
       "      <td>0.0712</td>\n",
       "      <td>0.0683</td>\n",
       "      <td>1.5871</td>\n",
       "      <td>NaN</td>\n",
       "    </tr>\n",
       "    <tr>\n",
       "      <th>2</th>\n",
       "      <td>ISP.MI</td>\n",
       "      <td>2022</td>\n",
       "      <td>NaN</td>\n",
       "      <td>NaN</td>\n",
       "      <td>0.2031</td>\n",
       "      <td>NaN</td>\n",
       "      <td>0.0045</td>\n",
       "      <td>0.0717</td>\n",
       "      <td>4.6570</td>\n",
       "      <td>1.0349</td>\n",
       "      <td>1.0201</td>\n",
       "      <td>1.6112</td>\n",
       "      <td>NaN</td>\n",
       "    </tr>\n",
       "    <tr>\n",
       "      <th>3</th>\n",
       "      <td>ISP.MI</td>\n",
       "      <td>2023</td>\n",
       "      <td>NaN</td>\n",
       "      <td>NaN</td>\n",
       "      <td>0.3039</td>\n",
       "      <td>NaN</td>\n",
       "      <td>0.0080</td>\n",
       "      <td>0.1208</td>\n",
       "      <td>-0.7473</td>\n",
       "      <td>-0.1957</td>\n",
       "      <td>-0.1336</td>\n",
       "      <td>2.2220</td>\n",
       "      <td>NaN</td>\n",
       "    </tr>\n",
       "    <tr>\n",
       "      <th>4</th>\n",
       "      <td>ISP.MI</td>\n",
       "      <td>2024</td>\n",
       "      <td>NaN</td>\n",
       "      <td>NaN</td>\n",
       "      <td>0.3063</td>\n",
       "      <td>NaN</td>\n",
       "      <td>0.0093</td>\n",
       "      <td>0.1330</td>\n",
       "      <td>-1.4793</td>\n",
       "      <td>-0.4313</td>\n",
       "      <td>-0.2856</td>\n",
       "      <td>2.2489</td>\n",
       "      <td>NaN</td>\n",
       "    </tr>\n",
       "  </tbody>\n",
       "</table>\n",
       "</div>"
      ],
      "text/plain": [
       "   ticker  time  GrossMargin  OperatingMargin  NetProfitMargin  EBITDAMargin  \\\n",
       "0  ISP.MI  2020          NaN              NaN              NaN           NaN   \n",
       "1  ISP.MI  2021          NaN              NaN           0.1911           NaN   \n",
       "2  ISP.MI  2022          NaN              NaN           0.2031           NaN   \n",
       "3  ISP.MI  2023          NaN              NaN           0.3039           NaN   \n",
       "4  ISP.MI  2024          NaN              NaN           0.3063           NaN   \n",
       "\n",
       "      ROA     ROE  FCFToRevenue  FCFYield  FCFtoDebt  DebtToEquity  \\\n",
       "0     NaN     NaN           NaN       NaN        NaN           NaN   \n",
       "1  0.0039  0.0656        0.3157    0.0712     0.0683        1.5871   \n",
       "2  0.0045  0.0717        4.6570    1.0349     1.0201        1.6112   \n",
       "3  0.0080  0.1208       -0.7473   -0.1957    -0.1336        2.2220   \n",
       "4  0.0093  0.1330       -1.4793   -0.4313    -0.2856        2.2489   \n",
       "\n",
       "   CurrentRatio  \n",
       "0           NaN  \n",
       "1           NaN  \n",
       "2           NaN  \n",
       "3           NaN  \n",
       "4           NaN  "
      ]
     },
     "execution_count": 15,
     "metadata": {},
     "output_type": "execute_result"
    }
   ],
   "source": [
    "ticker = 'ISP.MI'\n",
    "# year = 2024\n",
    "\n",
    "metrics, eval_metrics, composite_scores, red_flags = read_financial_results(\n",
    "    ticker=ticker,\n",
    "    # time=year,\n",
    "    input_dir='financial_data', \n",
    "    sheet_name='sheet1')\n",
    "\n",
    "metrics"
   ]
  },
  {
   "cell_type": "code",
   "execution_count": 16,
   "id": "1e1cafd4",
   "metadata": {},
   "outputs": [],
   "source": [
    "metrics, eval_metrics, composite_scores, red_flags = [\n",
    "    dataframe_to_json(df)\n",
    "    for df in [metrics, eval_metrics, composite_scores, red_flags]\n",
    "]"
   ]
  },
  {
   "cell_type": "code",
   "execution_count": 17,
   "id": "c08c4d77",
   "metadata": {},
   "outputs": [
    {
     "data": {
      "text/plain": [
       "'[{\"ticker\": \"ISP.MI\", \"time\": 2020, \"GrossMargin\": NaN, \"OperatingMargin\": NaN, \"NetProfitMargin\": NaN, \"EBITDAMargin\": NaN, \"ROA\": NaN, \"ROE\": NaN, \"FCFToRevenue\": NaN, \"FCFYield\": NaN, \"FCFtoDebt\": NaN, \"DebtToEquity\": NaN, \"CurrentRatio\": NaN}, {\"ticker\": \"ISP.MI\", \"time\": 2021, \"GrossMargin\": NaN, \"OperatingMargin\": NaN, \"NetProfitMargin\": 0.1911, \"EBITDAMargin\": NaN, \"ROA\": 0.0039, \"ROE\": 0.0656, \"FCFToRevenue\": 0.3157, \"FCFYield\": 0.0712, \"FCFtoDebt\": 0.0683, \"DebtToEquity\": 1.5871, \"CurrentRatio\": NaN}, {\"ticker\": \"ISP.MI\", \"time\": 2022, \"GrossMargin\": NaN, \"OperatingMargin\": NaN, \"NetProfitMargin\": 0.2031, \"EBITDAMargin\": NaN, \"ROA\": 0.0045, \"ROE\": 0.0717, \"FCFToRevenue\": 4.657, \"FCFYield\": 1.0349, \"FCFtoDebt\": 1.0201, \"DebtToEquity\": 1.6112, \"CurrentRatio\": NaN}, {\"ticker\": \"ISP.MI\", \"time\": 2023, \"GrossMargin\": NaN, \"OperatingMargin\": NaN, \"NetProfitMargin\": 0.3039, \"EBITDAMargin\": NaN, \"ROA\": 0.008, \"ROE\": 0.1208, \"FCFToRevenue\": -0.7473, \"FCFYield\": -0.1957, \"FCFtoDebt\": -0.1336, \"DebtToEquity\": 2.222, \"CurrentRatio\": NaN}, {\"ticker\": \"ISP.MI\", \"time\": 2024, \"GrossMargin\": NaN, \"OperatingMargin\": NaN, \"NetProfitMargin\": 0.3063, \"EBITDAMargin\": NaN, \"ROA\": 0.0093, \"ROE\": 0.133, \"FCFToRevenue\": -1.4793, \"FCFYield\": -0.4313, \"FCFtoDebt\": -0.2856, \"DebtToEquity\": 2.2489, \"CurrentRatio\": NaN}]'"
      ]
     },
     "execution_count": 17,
     "metadata": {},
     "output_type": "execute_result"
    }
   ],
   "source": [
    "metrics"
   ]
  },
  {
   "cell_type": "code",
   "execution_count": 18,
   "id": "05de8d27",
   "metadata": {},
   "outputs": [
    {
     "data": {
      "text/plain": [
       "'[{\"ticker\": \"ISP.MI\", \"time\": 2020, \"bvps\": NaN, \"fcf_per_share\": NaN, \"eps\": NaN, \"P/E\": NaN, \"P/B\": NaN, \"P/FCF\": NaN, \"EarningsYield\": NaN, \"FCFYield\": NaN}, {\"ticker\": \"ISP.MI\", \"time\": 2021, \"bvps\": 3.6289, \"fcf_per_share\": 0.3934, \"eps\": 0.22, \"P/E\": 24.6227, \"P/B\": 1.4927, \"P/FCF\": 13.7709, \"EarningsYield\": 0.0406, \"FCFYield\": 0.0712}, {\"ticker\": \"ISP.MI\", \"time\": 2022, \"bvps\": 3.4769, \"fcf_per_share\": 5.7146, \"eps\": 0.23, \"P/E\": 23.5522, \"P/B\": 1.558, \"P/FCF\": 0.9479, \"EarningsYield\": 0.0425, \"FCFYield\": 1.0349}, {\"ticker\": \"ISP.MI\", \"time\": 2023, \"bvps\": 3.6396, \"fcf_per_share\": -1.0807, \"eps\": 0.42, \"P/E\": 12.8976, \"P/B\": 1.4883, \"P/FCF\": -5.0123, \"EarningsYield\": 0.0775, \"FCFYield\": -0.1957}, {\"ticker\": \"ISP.MI\", \"time\": 2024, \"bvps\": 3.7087, \"fcf_per_share\": -2.3817, \"eps\": 0.4875, \"P/E\": 11.1128, \"P/B\": 1.4606, \"P/FCF\": -2.2744, \"EarningsYield\": 0.09, \"FCFYield\": -0.4313}]'"
      ]
     },
     "execution_count": 18,
     "metadata": {},
     "output_type": "execute_result"
    }
   ],
   "source": [
    "eval_metrics"
   ]
  },
  {
   "cell_type": "code",
   "execution_count": 19,
   "id": "dd00567a",
   "metadata": {},
   "outputs": [
    {
     "data": {
      "text/plain": [
       "'[{\"ticker\": \"ISP.MI\", \"time\": 2020, \"composite_score\": 3.0}, {\"ticker\": \"ISP.MI\", \"time\": 2021, \"composite_score\": 2.94}, {\"ticker\": \"ISP.MI\", \"time\": 2022, \"composite_score\": 3.12}, {\"ticker\": \"ISP.MI\", \"time\": 2023, \"composite_score\": 2.32}, {\"ticker\": \"ISP.MI\", \"time\": 2024, \"composite_score\": 2.32}]'"
      ]
     },
     "execution_count": 19,
     "metadata": {},
     "output_type": "execute_result"
    }
   ],
   "source": [
    "composite_scores"
   ]
  },
  {
   "cell_type": "code",
   "execution_count": 20,
   "id": "3376d95e",
   "metadata": {},
   "outputs": [
    {
     "data": {
      "text/plain": [
       "'[{\"ticker\": \"ISP.MI\", \"time\": 2023, \"metrics\": \"FCFtoDebt\", \"red_flag\": \"Insufficient Free Cash Flow to cover debt\"}, {\"ticker\": \"ISP.MI\", \"time\": 2024, \"metrics\": \"FCFtoDebt\", \"red_flag\": \"Insufficient Free Cash Flow to cover debt\"}, {\"ticker\": \"ISP.MI\", \"time\": 2023, \"metrics\": \"DebtToEquity\", \"red_flag\": \"High Debt-to-Equity (>2)\"}, {\"ticker\": \"ISP.MI\", \"time\": 2024, \"metrics\": \"DebtToEquity\", \"red_flag\": \"High Debt-to-Equity (>2)\"}, {\"ticker\": \"ISP.MI\", \"time\": 2023, \"metrics\": \"FCFtoDebt\", \"red_flag\": \"Insufficient Free Cash Flow to cover debt\"}, {\"ticker\": \"ISP.MI\", \"time\": 2024, \"metrics\": \"FCFtoDebt\", \"red_flag\": \"Insufficient Free Cash Flow to cover debt\"}, {\"ticker\": \"ISP.MI\", \"time\": 2023, \"metrics\": \"DebtToEquity\", \"red_flag\": \"High Debt-to-Equity (>2)\"}, {\"ticker\": \"ISP.MI\", \"time\": 2024, \"metrics\": \"DebtToEquity\", \"red_flag\": \"High Debt-to-Equity (>2)\"}]'"
      ]
     },
     "execution_count": 20,
     "metadata": {},
     "output_type": "execute_result"
    }
   ],
   "source": [
    "red_flags"
   ]
  },
  {
   "cell_type": "code",
   "execution_count": 21,
   "id": "c15a067c",
   "metadata": {},
   "outputs": [],
   "source": [
    "from financialtools.pydantic_models import StockRegimeAssessment"
   ]
  },
  {
   "cell_type": "code",
   "execution_count": 22,
   "id": "5c2db42b",
   "metadata": {},
   "outputs": [
    {
     "data": {
      "text/plain": [
       "'Finance'"
      ]
     },
     "execution_count": 22,
     "metadata": {},
     "output_type": "execute_result"
    }
   ],
   "source": [
    "from financialtools.utils import get_tickers\n",
    "tickers_sector = get_tickers(columns=['ticker', \"sector\"])\n",
    "sector = tickers_sector.filter(pl.col('ticker')==ticker)['sector'][0]\n",
    "sector"
   ]
  },
  {
   "cell_type": "code",
   "execution_count": 23,
   "id": "e33601f5",
   "metadata": {},
   "outputs": [
    {
     "data": {
      "text/plain": [
       "'[{\"metrics\": \"CurrentRatio\", \"market_value\": 3.583470588235294}, {\"metrics\": \"DebtToEquity\", \"market_value\": 1.206261764705882}, {\"metrics\": \"EBITDAMargin\", \"market_value\": 0.604935294117647}, {\"metrics\": \"FCFToRevenue\", \"market_value\": -0.3163}, {\"metrics\": \"FCFYield\", \"market_value\": -0.05095000000000001}, {\"metrics\": \"FCFtoDebt\", \"market_value\": -0.1077125}, {\"metrics\": \"GrossMargin\", \"market_value\": 0.6767882352941177}, {\"metrics\": \"NetProfitMargin\", \"market_value\": 0.2802777777777778}, {\"metrics\": \"OperatingMargin\", \"market_value\": 0.03461764705882354}, {\"metrics\": \"ROA\", \"market_value\": 0.01228611111111111}, {\"metrics\": \"ROE\", \"market_value\": 0.09369999999999999}]'"
      ]
     },
     "execution_count": 23,
     "metadata": {},
     "output_type": "execute_result"
    }
   ],
   "source": [
    "market_metrics = pd.read_excel('financial_data/metrics_by_sectors.xlsx')\n",
    "market_metrics = market_metrics[market_metrics[\"sector\"] == sector]\n",
    "market_metrics = market_metrics[market_metrics[\"time\"] == 2024]\n",
    "market_metrics = market_metrics[['metrics', 'market_value']]\n",
    "market_metrics\n",
    "\n",
    "from financialtools.utils import dataframe_to_json\n",
    "\n",
    "market_metrics = dataframe_to_json(market_metrics)\n",
    "market_metrics"
   ]
  },
  {
   "cell_type": "code",
   "execution_count": 24,
   "id": "a8dc9143",
   "metadata": {},
   "outputs": [
    {
     "data": {
      "text/plain": [
       "'[{\"eval_metrics\": \"EarningsYield\", \"market_value\": 0.07978214285714288}, {\"eval_metrics\": \"FCFYield\", \"market_value\": -0.05095000000000001}, {\"eval_metrics\": \"P/B\", \"market_value\": 1.575236111111111}, {\"eval_metrics\": \"P/E\", \"market_value\": 14.27628518518519}, {\"eval_metrics\": \"P/FCF\", \"market_value\": -18.83078235294117}, {\"eval_metrics\": \"bvps\", \"market_value\": 9.895380555555555}, {\"eval_metrics\": \"eps\", \"market_value\": 1.253885714285714}, {\"eval_metrics\": \"fcf_per_share\", \"market_value\": -0.1746764705882353}]'"
      ]
     },
     "execution_count": 24,
     "metadata": {},
     "output_type": "execute_result"
    }
   ],
   "source": [
    "eval_market_metrics = pd.read_excel('financial_data/eval_metrics_by_sectors.xlsx')\n",
    "eval_market_metrics = eval_market_metrics[eval_market_metrics[\"sector\"] == sector]\n",
    "eval_market_metrics = eval_market_metrics[eval_market_metrics[\"time\"] == 2024]\n",
    "eval_market_metrics = eval_market_metrics[['eval_metrics', 'market_value']]\n",
    "eval_market_metrics\n",
    "\n",
    "\n",
    "eval_market_metrics = dataframe_to_json(eval_market_metrics)\n",
    "eval_market_metrics"
   ]
  },
  {
   "cell_type": "code",
   "execution_count": 25,
   "id": "3da71ce3",
   "metadata": {},
   "outputs": [],
   "source": [
    "# from financialtools.pydantic_models import StockRegimeAssessment\n",
    "\n",
    "# from pydantic import BaseModel, Field\n",
    "# from typing import Literal, List, Dict, Optional\n",
    "from langchain_core.output_parsers import PydanticOutputParser\n",
    "\n",
    "from langchain.output_parsers import OutputFixingParser\n",
    "\n",
    "from langchain_core.prompts import ChatPromptTemplate\n",
    "from langchain_openai import ChatOpenAI\n",
    "\n",
    "# # Pydantic output model\n",
    "# class StockRegimeAssessment(BaseModel):\n",
    "#     regime: Literal[\"bull\", \"bear\"] = Field(\n",
    "#         ..., description=\"The fundamental regime classification of the stock\"\n",
    "#     )\n",
    "#     rationale: str = Field(\n",
    "#         ..., description=\"Concise explanation justifying the regime classification based on the financial metrics, composite ratio and red flags\"\n",
    "#     )\n",
    "#     metrics_movement: str = Field(\n",
    "#         ..., description=(\n",
    "#             \"A summary description of how key financial metrics have moved across years, \"\n",
    "#             \"e.g., 'GrossMargin increased steadily, DebtToEquity rose sharply, FCFYield remained stable.'\"\n",
    "#         )\n",
    "#     )\n",
    "#     non_aligned_findings: Optional[str] = Field(\n",
    "#         None,\n",
    "#         description=(\n",
    "#             \"Observations or signals that are not aligned with the overall metric trends, \"\n",
    "#             \"such as contradictory indicators, anomalies.\"\n",
    "#         )\n",
    "#     )\n",
    "\n",
    "\n",
    "# Instantiate the LLM (OpenAI GPT-4 or your preferred model)\n",
    "llm = ChatOpenAI(model=\"gpt-4.1-nano\", temperature=0)\n",
    "\n",
    "# Instantiate the parser with the Pydantic model\n",
    "parser = PydanticOutputParser(pydantic_object=StockRegimeAssessment)\n",
    "# Wrap your parser with OutputFixingParser\n",
    "parser = OutputFixingParser.from_llm(parser=parser, llm=llm)\n",
    "\n",
    "# Get the format instructions string from the parser\n",
    "format_instructions = parser.get_format_instructions()\n",
    "\n",
    "system_prompt_template = \"\"\"\n",
    "You are a trader assistant specializing in fundamental analysis. \n",
    "\n",
    "Based on the following financial data, provide a concise overall assessment that classifies \n",
    "the stock’s current fundamental regime as one of:\n",
    "\n",
    "- bull: Strong and improving fundamentals supporting a positive outlook.\n",
    "- bear: Weak or deteriorating fundamentals indicating risk or decline.\n",
    "\n",
    "Financial data constists of financial metrics, evaluation metrics, composite score and red flags.\n",
    "\n",
    "Financial metrics provided are the following:\n",
    "\n",
    "Profitability and Margin Metrics:\n",
    "    -GrossMargin: gross profit / total revenue \n",
    "    -OperatingMargin: operating income / total revenue\n",
    "    -NetProfitMargin: net income / total revenue\n",
    "    -EBITDAMargin: ebitda / total revenue\n",
    "Returns metrics:\n",
    "    -ROA: net income / total assets\n",
    "    -ROE: net income / total equity\n",
    "Cash Flow Strength metrics: \n",
    "    -FCFToRevenue: free cash flow / total revenue\n",
    "    -FCFYield: free cash flow / market capitalization\n",
    "    -FCFToDebt:: free cash flow / total debt\n",
    "Leverage & Solvency metrics:\n",
    "    -DebtToEquity: total debt / total equity\n",
    "Liquidity metrics:\n",
    "    -CurrentRatio: working capital / total liabilities\n",
    "\n",
    "\n",
    "Evaluation metrics provided are the following:\n",
    "    -bvps: total equity / shares outstanding\n",
    "    -fcf_per_share: free cash flow / shares outstanding\n",
    "    -eps: earning per share\n",
    "    -P/E: current stock price / eps\n",
    "    -P/B: current stock price / bvps\n",
    "    -P/FCF: current stock price / fcf_per_share\n",
    "    -EarningsYield: eps / current stock price\n",
    "    -FCFYield: free cash flow / market capitalization\n",
    "\n",
    "The composite score is a weighted average (1 to 5) that summarizes the company’s overall fundamental health.\n",
    "It reflects profitability, efficiency, leverage, liquidity, and cash flow strength, based on the above mentioned financial metrics (evaluation metrics do not kick in the calculation).\n",
    "\n",
    "The composite score ranges:\n",
    "1 = Weak fundamentals\n",
    "5 = Strong fundamentals\n",
    "\n",
    "Each financial metric (evaluation metric do not kick in in the calculation) is scored on a 1–5 scale and multiplied by its weight. The composite score is the sum of weighted scores divided by the total weight.\n",
    "\n",
    "A red flag is an early warning signal that highlights potential weaknesses in a company’s financial statements \n",
    "or business quality. These warnings do not always mean immediate distress, but they indicate heightened risk that \n",
    "traders should carefully consider before taking a position.\n",
    "\n",
    "Your assessment must take into account also financial and evaluation metrics information from the market. \n",
    "\n",
    "\"\"\"\n",
    "\n",
    "# Create a ChatPromptTemplate with system message and user input\n",
    "\n",
    "system_prompt_filled = system_prompt_template.format(format_instructions=format_instructions)\n",
    "\n",
    "prompt = ChatPromptTemplate.from_messages([\n",
    "    (\"system\", system_prompt_filled),\n",
    "    (\"human\", \"Metrics:\\n{metrics}\\nScores:\\n{scores}\\nEvaluation Metrics:\\n{eval_metrics}\\nRedFlags:\\n{red_flags}\\nMarket metrics:{market_metrics}\\nMarket evaluation metrics:{eval_market_metrics}\"),\n",
    "])\n",
    "\n",
    "# Create a runnable chain: prompt followed by LLM invocation\n",
    "chain = prompt | llm | parser\n",
    "\n",
    "\n",
    "# Then invoke with a dict containing 'financial_data'\n",
    "response = chain.invoke({\n",
    "    \"metrics\": metrics,  \n",
    "    \"eval_metrics\": eval_metrics,\n",
    "    \"scores\": composite_scores,\n",
    "    \"red_flags\": red_flags,   \n",
    "    \"market_metrics\": market_metrics, \n",
    "    \"eval_market_metrics\": eval_market_metrics\n",
    "})\n"
   ]
  },
  {
   "cell_type": "code",
   "execution_count": 26,
   "id": "085bf00f",
   "metadata": {},
   "outputs": [
    {
     "data": {
      "text/html": [
       "<pre style=\"white-space:pre;overflow-x:auto;line-height:normal;font-family:Menlo,'DejaVu Sans Mono',consolas,'Courier New',monospace\"><span style=\"color: #800080; text-decoration-color: #800080; font-weight: bold\">StockRegimeAssessment</span><span style=\"font-weight: bold\">(</span>\n",
       "    <span style=\"color: #808000; text-decoration-color: #808000\">ticker</span>=<span style=\"color: #008000; text-decoration-color: #008000\">'XYZ'</span>,\n",
       "    <span style=\"color: #808000; text-decoration-color: #808000\">regime</span>=<span style=\"color: #008000; text-decoration-color: #008000\">'bear'</span>,\n",
       "    <span style=\"color: #808000; text-decoration-color: #808000\">regime_rationale</span>=<span style=\"color: #008000; text-decoration-color: #008000\">'Financial metrics show high leverage with debt-to-equity above 2, negative free cash flow in </span>\n",
       "<span style=\"color: #008000; text-decoration-color: #008000\">recent years, and low returns on assets and equity, indicating deteriorating financial health and increased risk.'</span>,\n",
       "    <span style=\"color: #808000; text-decoration-color: #808000\">metrics_movement</span>=<span style=\"color: #008000; text-decoration-color: #008000\">'Profit margins improved slightly from 2021 to 2024, but debt levels and negative cash flows </span>\n",
       "<span style=\"color: #008000; text-decoration-color: #008000\">increased, with FCF to debt ratios remaining below 0, signaling worsening liquidity and leverage issues.'</span>,\n",
       "    <span style=\"color: #808000; text-decoration-color: #808000\">non_aligned_findings</span>=<span style=\"color: #800080; text-decoration-color: #800080; font-style: italic\">None</span>,\n",
       "    <span style=\"color: #808000; text-decoration-color: #808000\">evaluation</span>=<span style=\"color: #008000; text-decoration-color: #008000\">'undervaluated'</span>,\n",
       "    <span style=\"color: #808000; text-decoration-color: #808000\">evaluation_rationale</span>=<span style=\"color: #008000; text-decoration-color: #008000\">'Despite some margin improvements, high debt, negative free cash flow, and low returns </span>\n",
       "<span style=\"color: #008000; text-decoration-color: #008000\">suggest the stock is undervalued due to underlying financial distress.'</span>,\n",
       "    <span style=\"color: #808000; text-decoration-color: #808000\">market_eval_metrics_comparison</span>=<span style=\"color: #008000; text-decoration-color: #008000\">'Market valuations are reasonable relative to earnings and book value, but cash </span>\n",
       "<span style=\"color: #008000; text-decoration-color: #008000\">flow issues are not reflected in current market prices, indicating potential undervaluation.'</span>\n",
       "<span style=\"font-weight: bold\">)</span>\n",
       "</pre>\n"
      ],
      "text/plain": [
       "\u001b[1;35mStockRegimeAssessment\u001b[0m\u001b[1m(\u001b[0m\n",
       "    \u001b[33mticker\u001b[0m=\u001b[32m'XYZ'\u001b[0m,\n",
       "    \u001b[33mregime\u001b[0m=\u001b[32m'bear'\u001b[0m,\n",
       "    \u001b[33mregime_rationale\u001b[0m=\u001b[32m'Financial metrics show high leverage with debt-to-equity above 2, negative free cash flow in \u001b[0m\n",
       "\u001b[32mrecent years, and low returns on assets and equity, indicating deteriorating financial health and increased risk.'\u001b[0m,\n",
       "    \u001b[33mmetrics_movement\u001b[0m=\u001b[32m'Profit margins improved slightly from 2021 to 2024, but debt levels and negative cash flows \u001b[0m\n",
       "\u001b[32mincreased, with FCF to debt ratios remaining below 0, signaling worsening liquidity and leverage issues.'\u001b[0m,\n",
       "    \u001b[33mnon_aligned_findings\u001b[0m=\u001b[3;35mNone\u001b[0m,\n",
       "    \u001b[33mevaluation\u001b[0m=\u001b[32m'undervaluated'\u001b[0m,\n",
       "    \u001b[33mevaluation_rationale\u001b[0m=\u001b[32m'Despite some margin improvements, high debt, negative free cash flow, and low returns \u001b[0m\n",
       "\u001b[32msuggest the stock is undervalued due to underlying financial distress.'\u001b[0m,\n",
       "    \u001b[33mmarket_eval_metrics_comparison\u001b[0m=\u001b[32m'Market valuations are reasonable relative to earnings and book value, but cash \u001b[0m\n",
       "\u001b[32mflow issues are not reflected in current market prices, indicating potential undervaluation.'\u001b[0m\n",
       "\u001b[1m)\u001b[0m\n"
      ]
     },
     "metadata": {},
     "output_type": "display_data"
    }
   ],
   "source": [
    "import rich\n",
    "\n",
    "rich.print(response)"
   ]
  }
 ],
 "metadata": {
  "kernelspec": {
   "display_name": "venv",
   "language": "python",
   "name": "python3"
  },
  "language_info": {
   "codemirror_mode": {
    "name": "ipython",
    "version": 3
   },
   "file_extension": ".py",
   "mimetype": "text/x-python",
   "name": "python",
   "nbconvert_exporter": "python",
   "pygments_lexer": "ipython3",
   "version": "3.12.6"
  }
 },
 "nbformat": 4,
 "nbformat_minor": 5
}
