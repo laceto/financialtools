{
 "cells": [
  {
   "cell_type": "code",
   "execution_count": 27,
   "id": "92d289c0",
   "metadata": {},
   "outputs": [],
   "source": [
    "\n",
    "from dotenv import load_dotenv, find_dotenv \n",
    "load_dotenv()\n",
    "\n",
    "import pandas as pd\n",
    "import polars as pl\n",
    "from financialtools.utils import dataframe_to_json, get_fin_data_year\n",
    "from financialtools.wrappers import read_financial_results"
   ]
  },
  {
   "cell_type": "code",
   "execution_count": 28,
   "id": "9a9d40dd",
   "metadata": {},
   "outputs": [
    {
     "data": {
      "text/html": [
       "<div>\n",
       "<style scoped>\n",
       "    .dataframe tbody tr th:only-of-type {\n",
       "        vertical-align: middle;\n",
       "    }\n",
       "\n",
       "    .dataframe tbody tr th {\n",
       "        vertical-align: top;\n",
       "    }\n",
       "\n",
       "    .dataframe thead th {\n",
       "        text-align: right;\n",
       "    }\n",
       "</style>\n",
       "<table border=\"1\" class=\"dataframe\">\n",
       "  <thead>\n",
       "    <tr style=\"text-align: right;\">\n",
       "      <th></th>\n",
       "      <th>ticker</th>\n",
       "      <th>time</th>\n",
       "      <th>GrossMargin</th>\n",
       "      <th>OperatingMargin</th>\n",
       "      <th>NetProfitMargin</th>\n",
       "      <th>EBITDAMargin</th>\n",
       "      <th>ROA</th>\n",
       "      <th>ROE</th>\n",
       "      <th>FCFToRevenue</th>\n",
       "      <th>FCFYield</th>\n",
       "      <th>FCFtoDebt</th>\n",
       "      <th>DebtToEquity</th>\n",
       "      <th>CurrentRatio</th>\n",
       "    </tr>\n",
       "  </thead>\n",
       "  <tbody>\n",
       "    <tr>\n",
       "      <th>714</th>\n",
       "      <td>FCT.MI</td>\n",
       "      <td>2020</td>\n",
       "      <td>NaN</td>\n",
       "      <td>NaN</td>\n",
       "      <td>NaN</td>\n",
       "      <td>NaN</td>\n",
       "      <td>NaN</td>\n",
       "      <td>NaN</td>\n",
       "      <td>NaN</td>\n",
       "      <td>NaN</td>\n",
       "      <td>NaN</td>\n",
       "      <td>NaN</td>\n",
       "      <td>NaN</td>\n",
       "    </tr>\n",
       "    <tr>\n",
       "      <th>715</th>\n",
       "      <td>FCT.MI</td>\n",
       "      <td>2021</td>\n",
       "      <td>0.2190</td>\n",
       "      <td>0.0170</td>\n",
       "      <td>0.0032</td>\n",
       "      <td>0.0542</td>\n",
       "      <td>0.0024</td>\n",
       "      <td>0.0266</td>\n",
       "      <td>0.0742</td>\n",
       "      <td>0.0834</td>\n",
       "      <td>0.1419</td>\n",
       "      <td>4.3452</td>\n",
       "      <td>1.0271</td>\n",
       "    </tr>\n",
       "    <tr>\n",
       "      <th>716</th>\n",
       "      <td>FCT.MI</td>\n",
       "      <td>2022</td>\n",
       "      <td>0.1825</td>\n",
       "      <td>-0.0280</td>\n",
       "      <td>-0.0420</td>\n",
       "      <td>0.0005</td>\n",
       "      <td>-0.0355</td>\n",
       "      <td>-0.5275</td>\n",
       "      <td>-0.0480</td>\n",
       "      <td>-0.0583</td>\n",
       "      <td>-0.1098</td>\n",
       "      <td>5.4870</td>\n",
       "      <td>0.9577</td>\n",
       "    </tr>\n",
       "    <tr>\n",
       "      <th>717</th>\n",
       "      <td>FCT.MI</td>\n",
       "      <td>2023</td>\n",
       "      <td>0.1993</td>\n",
       "      <td>-0.0059</td>\n",
       "      <td>-0.0071</td>\n",
       "      <td>0.0536</td>\n",
       "      <td>-0.0061</td>\n",
       "      <td>-0.1220</td>\n",
       "      <td>0.0508</td>\n",
       "      <td>0.0626</td>\n",
       "      <td>0.1299</td>\n",
       "      <td>6.7274</td>\n",
       "      <td>0.9135</td>\n",
       "    </tr>\n",
       "    <tr>\n",
       "      <th>718</th>\n",
       "      <td>FCT.MI</td>\n",
       "      <td>2024</td>\n",
       "      <td>0.2132</td>\n",
       "      <td>0.0031</td>\n",
       "      <td>0.0041</td>\n",
       "      <td>0.0702</td>\n",
       "      <td>0.0034</td>\n",
       "      <td>0.0387</td>\n",
       "      <td>0.0227</td>\n",
       "      <td>0.0299</td>\n",
       "      <td>0.0778</td>\n",
       "      <td>2.7375</td>\n",
       "      <td>1.0112</td>\n",
       "    </tr>\n",
       "  </tbody>\n",
       "</table>\n",
       "</div>"
      ],
      "text/plain": [
       "     ticker  time  GrossMargin  OperatingMargin  NetProfitMargin  \\\n",
       "714  FCT.MI  2020          NaN              NaN              NaN   \n",
       "715  FCT.MI  2021       0.2190           0.0170           0.0032   \n",
       "716  FCT.MI  2022       0.1825          -0.0280          -0.0420   \n",
       "717  FCT.MI  2023       0.1993          -0.0059          -0.0071   \n",
       "718  FCT.MI  2024       0.2132           0.0031           0.0041   \n",
       "\n",
       "     EBITDAMargin     ROA     ROE  FCFToRevenue  FCFYield  FCFtoDebt  \\\n",
       "714           NaN     NaN     NaN           NaN       NaN        NaN   \n",
       "715        0.0542  0.0024  0.0266        0.0742    0.0834     0.1419   \n",
       "716        0.0005 -0.0355 -0.5275       -0.0480   -0.0583    -0.1098   \n",
       "717        0.0536 -0.0061 -0.1220        0.0508    0.0626     0.1299   \n",
       "718        0.0702  0.0034  0.0387        0.0227    0.0299     0.0778   \n",
       "\n",
       "     DebtToEquity  CurrentRatio  \n",
       "714           NaN           NaN  \n",
       "715        4.3452        1.0271  \n",
       "716        5.4870        0.9577  \n",
       "717        6.7274        0.9135  \n",
       "718        2.7375        1.0112  "
      ]
     },
     "execution_count": 28,
     "metadata": {},
     "output_type": "execute_result"
    }
   ],
   "source": [
    "ticker = 'FCT.MI'\n",
    "# year = 2024\n",
    "\n",
    "metrics, eval_metrics, composite_scores, red_flags = read_financial_results(\n",
    "    ticker=ticker,\n",
    "    # time=year,\n",
    "    input_dir='financial_data', \n",
    "    sheet_name='sheet1')\n",
    "\n",
    "metrics"
   ]
  },
  {
   "cell_type": "code",
   "execution_count": 16,
   "id": "1e1cafd4",
   "metadata": {},
   "outputs": [],
   "source": [
    "metrics, eval_metrics, composite_scores, red_flags = [\n",
    "    dataframe_to_json(df)\n",
    "    for df in [metrics, eval_metrics, composite_scores, red_flags]\n",
    "]"
   ]
  },
  {
   "cell_type": "code",
   "execution_count": 17,
   "id": "c08c4d77",
   "metadata": {},
   "outputs": [
    {
     "data": {
      "text/plain": [
       "'[{\"ticker\": \"FCT.MI\", \"time\": 2020, \"GrossMargin\": NaN, \"OperatingMargin\": NaN, \"NetProfitMargin\": NaN, \"EBITDAMargin\": NaN, \"ROA\": NaN, \"ROE\": NaN, \"FCFToRevenue\": NaN, \"FCFYield\": NaN, \"FCFtoDebt\": NaN, \"DebtToEquity\": NaN, \"CurrentRatio\": NaN}, {\"ticker\": \"FCT.MI\", \"time\": 2021, \"GrossMargin\": 0.219, \"OperatingMargin\": 0.017, \"NetProfitMargin\": 0.0032, \"EBITDAMargin\": 0.0542, \"ROA\": 0.0024, \"ROE\": 0.0266, \"FCFToRevenue\": 0.0742, \"FCFYield\": 0.0834, \"FCFtoDebt\": 0.1419, \"DebtToEquity\": 4.3452, \"CurrentRatio\": 1.0271}, {\"ticker\": \"FCT.MI\", \"time\": 2022, \"GrossMargin\": 0.1825, \"OperatingMargin\": -0.028, \"NetProfitMargin\": -0.042, \"EBITDAMargin\": 0.0005, \"ROA\": -0.0355, \"ROE\": -0.5275, \"FCFToRevenue\": -0.048, \"FCFYield\": -0.0583, \"FCFtoDebt\": -0.1098, \"DebtToEquity\": 5.487, \"CurrentRatio\": 0.9577}, {\"ticker\": \"FCT.MI\", \"time\": 2023, \"GrossMargin\": 0.1993, \"OperatingMargin\": -0.0059, \"NetProfitMargin\": -0.0071, \"EBITDAMargin\": 0.0536, \"ROA\": -0.0061, \"ROE\": -0.122, \"FCFToRevenue\": 0.0508, \"FCFYield\": 0.0626, \"FCFtoDebt\": 0.1299, \"DebtToEquity\": 6.7274, \"CurrentRatio\": 0.9135}, {\"ticker\": \"FCT.MI\", \"time\": 2024, \"GrossMargin\": 0.2132, \"OperatingMargin\": 0.0031, \"NetProfitMargin\": 0.0041, \"EBITDAMargin\": 0.0702, \"ROA\": 0.0034, \"ROE\": 0.0387, \"FCFToRevenue\": 0.0227, \"FCFYield\": 0.0299, \"FCFtoDebt\": 0.0778, \"DebtToEquity\": 2.7375, \"CurrentRatio\": 1.0112}]'"
      ]
     },
     "execution_count": 17,
     "metadata": {},
     "output_type": "execute_result"
    }
   ],
   "source": [
    "metrics"
   ]
  },
  {
   "cell_type": "code",
   "execution_count": 18,
   "id": "05de8d27",
   "metadata": {},
   "outputs": [
    {
     "data": {
      "text/plain": [
       "'[{\"ticker\": \"FCT.MI\", \"time\": 2020, \"bvps\": NaN, \"fcf_per_share\": NaN, \"eps\": NaN, \"P/E\": NaN, \"P/B\": NaN, \"P/FCF\": NaN, \"EarningsYield\": NaN, \"FCFYield\": NaN}, {\"ticker\": \"FCT.MI\", \"time\": 2021, \"bvps\": 2.5269, \"fcf_per_share\": 1.5575, \"eps\": 0.0985, \"P/E\": 189.4662, \"P/B\": 7.3886, \"P/FCF\": 11.987, \"EarningsYield\": 0.0053, \"FCFYield\": 0.0834}, {\"ticker\": \"FCT.MI\", \"time\": 2022, \"bvps\": 1.8073, \"fcf_per_share\": -1.0884, \"eps\": -1.4108, \"P/E\": -13.2335, \"P/B\": 10.3301, \"P/FCF\": -17.1532, \"EarningsYield\": -0.0756, \"FCFYield\": -0.0583}, {\"ticker\": \"FCT.MI\", \"time\": 2023, \"bvps\": 1.337, \"fcf_per_share\": 1.1681, \"eps\": -0.0311, \"P/E\": -599.5504, \"P/B\": 13.9643, \"P/FCF\": 15.9835, \"EarningsYield\": -0.0017, \"FCFYield\": 0.0626}, {\"ticker\": \"FCT.MI\", \"time\": 2024, \"bvps\": 2.6222, \"fcf_per_share\": 0.5581, \"eps\": 0.1356, \"P/E\": 137.7148, \"P/B\": 7.12, \"P/FCF\": 33.4517, \"EarningsYield\": 0.0073, \"FCFYield\": 0.0299}]'"
      ]
     },
     "execution_count": 18,
     "metadata": {},
     "output_type": "execute_result"
    }
   ],
   "source": [
    "eval_metrics"
   ]
  },
  {
   "cell_type": "code",
   "execution_count": 19,
   "id": "dd00567a",
   "metadata": {},
   "outputs": [
    {
     "data": {
      "text/plain": [
       "'[{\"ticker\": \"FCT.MI\", \"time\": 2020, \"composite_score\": 3.0}, {\"ticker\": \"FCT.MI\", \"time\": 2021, \"composite_score\": 1.66}, {\"ticker\": \"FCT.MI\", \"time\": 2022, \"composite_score\": 1.0}, {\"ticker\": \"FCT.MI\", \"time\": 2023, \"composite_score\": 1.5}, {\"ticker\": \"FCT.MI\", \"time\": 2024, \"composite_score\": 1.36}]'"
      ]
     },
     "execution_count": 19,
     "metadata": {},
     "output_type": "execute_result"
    }
   ],
   "source": [
    "composite_scores"
   ]
  },
  {
   "cell_type": "code",
   "execution_count": 20,
   "id": "3376d95e",
   "metadata": {},
   "outputs": [
    {
     "data": {
      "text/plain": [
       "'[{\"ticker\": \"FCT.MI\", \"time\": 2022, \"metrics\": \"OperatingMargin\", \"red_flag\": \"Negative Operating Margin\"}, {\"ticker\": \"FCT.MI\", \"time\": 2023, \"metrics\": \"OperatingMargin\", \"red_flag\": \"Negative Operating Margin\"}, {\"ticker\": \"FCT.MI\", \"time\": 2022, \"metrics\": \"NetProfitMargin\", \"red_flag\": \"Negative Net Margin\"}, {\"ticker\": \"FCT.MI\", \"time\": 2023, \"metrics\": \"NetProfitMargin\", \"red_flag\": \"Negative Net Margin\"}, {\"ticker\": \"FCT.MI\", \"time\": 2022, \"metrics\": \"ROA\", \"red_flag\": \"Negative ROA\"}, {\"ticker\": \"FCT.MI\", \"time\": 2023, \"metrics\": \"ROA\", \"red_flag\": \"Negative ROA\"}, {\"ticker\": \"FCT.MI\", \"time\": 2022, \"metrics\": \"ROE\", \"red_flag\": \"Negative ROE\"}, {\"ticker\": \"FCT.MI\", \"time\": 2023, \"metrics\": \"ROE\", \"red_flag\": \"Negative ROE\"}, {\"ticker\": \"FCT.MI\", \"time\": 2022, \"metrics\": \"FCFtoDebt\", \"red_flag\": \"Insufficient Free Cash Flow to cover debt\"}, {\"ticker\": \"FCT.MI\", \"time\": 2021, \"metrics\": \"DebtToEquity\", \"red_flag\": \"High Debt-to-Equity (>2)\"}, {\"ticker\": \"FCT.MI\", \"time\": 2022, \"metrics\": \"DebtToEquity\", \"red_flag\": \"High Debt-to-Equity (>2)\"}, {\"ticker\": \"FCT.MI\", \"time\": 2023, \"metrics\": \"DebtToEquity\", \"red_flag\": \"High Debt-to-Equity (>2)\"}, {\"ticker\": \"FCT.MI\", \"time\": 2024, \"metrics\": \"DebtToEquity\", \"red_flag\": \"High Debt-to-Equity (>2)\"}, {\"ticker\": \"FCT.MI\", \"time\": 2022, \"metrics\": \"OperatingMargin\", \"red_flag\": \"Negative Operating Margin\"}, {\"ticker\": \"FCT.MI\", \"time\": 2023, \"metrics\": \"OperatingMargin\", \"red_flag\": \"Negative Operating Margin\"}, {\"ticker\": \"FCT.MI\", \"time\": 2022, \"metrics\": \"NetProfitMargin\", \"red_flag\": \"Negative Net Margin\"}, {\"ticker\": \"FCT.MI\", \"time\": 2023, \"metrics\": \"NetProfitMargin\", \"red_flag\": \"Negative Net Margin\"}, {\"ticker\": \"FCT.MI\", \"time\": 2022, \"metrics\": \"ROA\", \"red_flag\": \"Negative ROA\"}, {\"ticker\": \"FCT.MI\", \"time\": 2023, \"metrics\": \"ROA\", \"red_flag\": \"Negative ROA\"}, {\"ticker\": \"FCT.MI\", \"time\": 2022, \"metrics\": \"ROE\", \"red_flag\": \"Negative ROE\"}, {\"ticker\": \"FCT.MI\", \"time\": 2023, \"metrics\": \"ROE\", \"red_flag\": \"Negative ROE\"}, {\"ticker\": \"FCT.MI\", \"time\": 2022, \"metrics\": \"FCFtoDebt\", \"red_flag\": \"Insufficient Free Cash Flow to cover debt\"}, {\"ticker\": \"FCT.MI\", \"time\": 2021, \"metrics\": \"DebtToEquity\", \"red_flag\": \"High Debt-to-Equity (>2)\"}, {\"ticker\": \"FCT.MI\", \"time\": 2022, \"metrics\": \"DebtToEquity\", \"red_flag\": \"High Debt-to-Equity (>2)\"}, {\"ticker\": \"FCT.MI\", \"time\": 2023, \"metrics\": \"DebtToEquity\", \"red_flag\": \"High Debt-to-Equity (>2)\"}, {\"ticker\": \"FCT.MI\", \"time\": 2024, \"metrics\": \"DebtToEquity\", \"red_flag\": \"High Debt-to-Equity (>2)\"}]'"
      ]
     },
     "execution_count": 20,
     "metadata": {},
     "output_type": "execute_result"
    }
   ],
   "source": [
    "red_flags"
   ]
  },
  {
   "cell_type": "code",
   "execution_count": 21,
   "id": "c15a067c",
   "metadata": {},
   "outputs": [],
   "source": [
    "from financialtools.pydantic_models import StockRegimeAssessment"
   ]
  },
  {
   "cell_type": "code",
   "execution_count": 22,
   "id": "5c2db42b",
   "metadata": {},
   "outputs": [
    {
     "data": {
      "text/plain": [
       "'Producer Manufacturing'"
      ]
     },
     "execution_count": 22,
     "metadata": {},
     "output_type": "execute_result"
    }
   ],
   "source": [
    "from financialtools.utils import get_tickers\n",
    "tickers_sector = get_tickers(columns=['ticker', \"sector\"])\n",
    "sector = tickers_sector.filter(pl.col('ticker')==ticker)['sector'][0]\n",
    "sector"
   ]
  },
  {
   "cell_type": "code",
   "execution_count": null,
   "id": "e33601f5",
   "metadata": {},
   "outputs": [],
   "source": []
  },
  {
   "cell_type": "code",
   "execution_count": 23,
   "id": "a8dc9143",
   "metadata": {},
   "outputs": [
    {
     "data": {
      "text/plain": [
       "'[{\"metrics\": \"CurrentRatio\", \"market_value\": 1.855290909090909}, {\"metrics\": \"DebtToEquity\", \"market_value\": 0.78}, {\"metrics\": \"EBITDAMargin\", \"market_value\": 0.1106272727272727}, {\"metrics\": \"FCFToRevenue\", \"market_value\": 0.01858636363636364}, {\"metrics\": \"FCFYield\", \"market_value\": -0.02255454545454547}, {\"metrics\": \"FCFtoDebt\", \"market_value\": -0.05474545454545456}, {\"metrics\": \"GrossMargin\", \"market_value\": 0.4564818181818182}, {\"metrics\": \"NetProfitMargin\", \"market_value\": 0.02178181818181818}, {\"metrics\": \"OperatingMargin\", \"market_value\": 0.05197272727272727}, {\"metrics\": \"ROA\", \"market_value\": 0.02209545454545454}, {\"metrics\": \"ROE\", \"market_value\": -0.06006818181818181}]'"
      ]
     },
     "execution_count": 23,
     "metadata": {},
     "output_type": "execute_result"
    }
   ],
   "source": [
    "market_metrics = pd.read_excel('financial_data/metrics_by_sectors.xlsx')\n",
    "\n",
    "# market_metrics = market_metrics[market_metrics[\"ticker\"] == ticker]\n",
    "market_metrics = market_metrics[market_metrics[\"sector\"] == sector]\n",
    "market_metrics = market_metrics[market_metrics[\"time\"] == 2024]\n",
    "market_metrics = market_metrics[['metrics', 'market_value']]\n",
    "market_metrics\n",
    "\n",
    "from financialtools.utils import dataframe_to_json\n",
    "\n",
    "market_metrics = dataframe_to_json(market_metrics)\n",
    "market_metrics"
   ]
  },
  {
   "cell_type": "code",
   "execution_count": 24,
   "id": "3da71ce3",
   "metadata": {},
   "outputs": [],
   "source": [
    "# from financialtools.pydantic_models import StockRegimeAssessment\n",
    "\n",
    "# from pydantic import BaseModel, Field\n",
    "# from typing import Literal, List, Dict, Optional\n",
    "from langchain_core.output_parsers import PydanticOutputParser\n",
    "\n",
    "from langchain.output_parsers import OutputFixingParser\n",
    "\n",
    "from langchain_core.prompts import ChatPromptTemplate\n",
    "from langchain_openai import ChatOpenAI\n",
    "\n",
    "# # Pydantic output model\n",
    "# class StockRegimeAssessment(BaseModel):\n",
    "#     regime: Literal[\"bull\", \"bear\"] = Field(\n",
    "#         ..., description=\"The fundamental regime classification of the stock\"\n",
    "#     )\n",
    "#     rationale: str = Field(\n",
    "#         ..., description=\"Concise explanation justifying the regime classification based on the financial metrics, composite ratio and red flags\"\n",
    "#     )\n",
    "#     metrics_movement: str = Field(\n",
    "#         ..., description=(\n",
    "#             \"A summary description of how key financial metrics have moved across years, \"\n",
    "#             \"e.g., 'GrossMargin increased steadily, DebtToEquity rose sharply, FCFYield remained stable.'\"\n",
    "#         )\n",
    "#     )\n",
    "#     non_aligned_findings: Optional[str] = Field(\n",
    "#         None,\n",
    "#         description=(\n",
    "#             \"Observations or signals that are not aligned with the overall metric trends, \"\n",
    "#             \"such as contradictory indicators, anomalies.\"\n",
    "#         )\n",
    "#     )\n",
    "\n",
    "\n",
    "# Instantiate the LLM (OpenAI GPT-4 or your preferred model)\n",
    "llm = ChatOpenAI(model=\"gpt-4.1-nano\", temperature=0)\n",
    "\n",
    "# Instantiate the parser with the Pydantic model\n",
    "parser = PydanticOutputParser(pydantic_object=StockRegimeAssessment)\n",
    "# Wrap your parser with OutputFixingParser\n",
    "parser = OutputFixingParser.from_llm(parser=parser, llm=llm)\n",
    "\n",
    "# Get the format instructions string from the parser\n",
    "format_instructions = parser.get_format_instructions()\n",
    "\n",
    "system_prompt_template = \"\"\"\n",
    "You are a trader assistant specializing in fundamental analysis. \n",
    "\n",
    "Based on the following financial data, provide a concise overall assessment that classifies \n",
    "the stock’s current fundamental regime as one of:\n",
    "\n",
    "- bull: Strong and improving fundamentals supporting a positive outlook.\n",
    "- bear: Weak or deteriorating fundamentals indicating risk or decline.\n",
    "\n",
    "Financial data constists of financial metrics, evaluation metrics, composite score and red flags.\n",
    "\n",
    "Financial metrics provided are the following:\n",
    "\n",
    "Profitability and Margin Metrics:\n",
    "    -GrossMargin: gross profit / total revenue \n",
    "    -OperatingMargin: operating income / total revenue\n",
    "    -NetProfitMargin: net income / total revenue\n",
    "    -EBITDAMargin: ebitda / total revenue\n",
    "Returns metrics:\n",
    "    -ROA: net income / total assets\n",
    "    -ROE: net income / total equity\n",
    "Cash Flow Strength metrics: \n",
    "    -FCFToRevenue: free cash flow / total revenue\n",
    "    -FCFYield: free cash flow / market capitalization\n",
    "    -FCFToDebt:: free cash flow / total debt\n",
    "Leverage & Solvency metrics:\n",
    "    -DebtToEquity: total debt / total equity\n",
    "Liquidity metrics:\n",
    "    -CurrentRatio: working capital / total liabilities\n",
    "\n",
    "\n",
    "Evaluation metrics provided are the following:\n",
    "    -bvps: total equity / shares outstanding\n",
    "    -fcf_per_share: free cash flow / shares outstanding\n",
    "    -eps: earning per share\n",
    "    -P/E: current stock price / eps\n",
    "    -P/B: current stock price / bvps\n",
    "    -P/FCF: current stock price / fcf_per_share\n",
    "    -EarningsYield: eps / current stock price\n",
    "    -FCFYield: free cash flow / market capitalization\n",
    "\n",
    "The composite score is a weighted average (1 to 5) that summarizes the company’s overall fundamental health.\n",
    "It reflects profitability, efficiency, leverage, liquidity, and cash flow strength, based on the above mentioned financial metrics (evaluation metrics do not kick in the calculation).\n",
    "\n",
    "The composite score ranges:\n",
    "1 = Weak fundamentals\n",
    "5 = Strong fundamentals\n",
    "\n",
    "Each financial metric (evaluation metric do not kick in in the calculation) is scored on a 1–5 scale and multiplied by its weight. The composite score is the sum of weighted scores divided by the total weight.\n",
    "\n",
    "A red flag is an early warning signal that highlights potential weaknesses in a company’s financial statements \n",
    "or business quality. These warnings do not always mean immediate distress, but they indicate heightened risk that \n",
    "traders should carefully consider before taking a position.\n",
    "\n",
    "Your assessment must take into account also metrics information from the market. \n",
    "\n",
    "\"\"\"\n",
    "\n",
    "# Create a ChatPromptTemplate with system message and user input\n",
    "\n",
    "system_prompt_filled = system_prompt_template.format(format_instructions=format_instructions)\n",
    "\n",
    "prompt = ChatPromptTemplate.from_messages([\n",
    "    (\"system\", system_prompt_filled),\n",
    "    (\"human\", \"Metrics:\\n{metrics}\\nScores:\\n{scores}\\nEvaluation Metrics:\\n{eval_metrics}\\nRedFlags:\\n{red_flags}\\nMarket metrics:{market_metrics}\"),\n",
    "])\n",
    "\n",
    "# Create a runnable chain: prompt followed by LLM invocation\n",
    "chain = prompt | llm | parser\n",
    "\n",
    "\n",
    "# Then invoke with a dict containing 'financial_data'\n",
    "response = chain.invoke({\n",
    "    \"metrics\": metrics,  \n",
    "    \"eval_metrics\": eval_metrics,\n",
    "    \"scores\": composite_scores,\n",
    "    \"red_flags\": red_flags,   \n",
    "    \"market_metrics\":market_metrics, \n",
    "})\n"
   ]
  },
  {
   "cell_type": "code",
   "execution_count": 25,
   "id": "085bf00f",
   "metadata": {},
   "outputs": [
    {
     "data": {
      "text/html": [
       "<pre style=\"white-space:pre;overflow-x:auto;line-height:normal;font-family:Menlo,'DejaVu Sans Mono',consolas,'Courier New',monospace\"><span style=\"color: #800080; text-decoration-color: #800080; font-weight: bold\">StockRegimeAssessment</span><span style=\"font-weight: bold\">(</span>\n",
       "    <span style=\"color: #808000; text-decoration-color: #808000\">ticker</span>=<span style=\"color: #008000; text-decoration-color: #008000\">'XYZ'</span>,\n",
       "    <span style=\"color: #808000; text-decoration-color: #808000\">regime</span>=<span style=\"color: #008000; text-decoration-color: #008000\">'bear'</span>,\n",
       "    <span style=\"color: #808000; text-decoration-color: #808000\">regime_rationale</span>=<span style=\"color: #008000; text-decoration-color: #008000\">'Persistent negative profitability metrics, high and increasing debt-to-equity ratio above 2, </span>\n",
       "<span style=\"color: #008000; text-decoration-color: #008000\">negative cash flow and FCF yield, and multiple red flags indicating structural weaknesses and elevated financial </span>\n",
       "<span style=\"color: #008000; text-decoration-color: #008000\">risk.'</span>,\n",
       "    <span style=\"color: #808000; text-decoration-color: #808000\">metrics_movement</span>=<span style=\"color: #008000; text-decoration-color: #008000\">'GrossMargin declined slightly, DebtToEquity increased sharply, FCF and FCFYield remained </span>\n",
       "<span style=\"color: #008000; text-decoration-color: #008000\">negative and deteriorated further, ROA and ROE stayed negative, indicating ongoing profitability issues.'</span>,\n",
       "    <span style=\"color: #808000; text-decoration-color: #808000\">non_aligned_findings</span>=<span style=\"color: #800080; text-decoration-color: #800080; font-style: italic\">None</span>,\n",
       "    <span style=\"color: #808000; text-decoration-color: #808000\">evaluation</span>=<span style=\"color: #008000; text-decoration-color: #008000\">'undervaluated'</span>,\n",
       "    <span style=\"color: #808000; text-decoration-color: #808000\">evaluation_rationale</span>=<span style=\"color: #008000; text-decoration-color: #008000\">\"Despite weak fundamentals and negative cash flows, the stock's valuation appears low </span>\n",
       "<span style=\"color: #008000; text-decoration-color: #008000\">relative to its distressed financial position, suggesting potential undervaluation.\"</span>,\n",
       "    <span style=\"color: #808000; text-decoration-color: #808000\">market_comparison</span>=<span style=\"color: #008000; text-decoration-color: #008000\">\"Market metrics show moderate liquidity with current ratio above 1, but overall valuation </span>\n",
       "<span style=\"color: #008000; text-decoration-color: #008000\">remains low compared to market averages, reflecting the company's weak financial health.\"</span>\n",
       "<span style=\"font-weight: bold\">)</span>\n",
       "</pre>\n"
      ],
      "text/plain": [
       "\u001b[1;35mStockRegimeAssessment\u001b[0m\u001b[1m(\u001b[0m\n",
       "    \u001b[33mticker\u001b[0m=\u001b[32m'XYZ'\u001b[0m,\n",
       "    \u001b[33mregime\u001b[0m=\u001b[32m'bear'\u001b[0m,\n",
       "    \u001b[33mregime_rationale\u001b[0m=\u001b[32m'Persistent negative profitability metrics, high and increasing debt-to-equity ratio above 2, \u001b[0m\n",
       "\u001b[32mnegative cash flow and FCF yield, and multiple red flags indicating structural weaknesses and elevated financial \u001b[0m\n",
       "\u001b[32mrisk.'\u001b[0m,\n",
       "    \u001b[33mmetrics_movement\u001b[0m=\u001b[32m'GrossMargin declined slightly, DebtToEquity increased sharply, FCF and FCFYield remained \u001b[0m\n",
       "\u001b[32mnegative and deteriorated further, ROA and ROE stayed negative, indicating ongoing profitability issues.'\u001b[0m,\n",
       "    \u001b[33mnon_aligned_findings\u001b[0m=\u001b[3;35mNone\u001b[0m,\n",
       "    \u001b[33mevaluation\u001b[0m=\u001b[32m'undervaluated'\u001b[0m,\n",
       "    \u001b[33mevaluation_rationale\u001b[0m=\u001b[32m\"Despite\u001b[0m\u001b[32m weak fundamentals and negative cash flows, the stock's valuation appears low \u001b[0m\n",
       "\u001b[32mrelative to its distressed financial position, suggesting potential undervaluation.\"\u001b[0m,\n",
       "    \u001b[33mmarket_comparison\u001b[0m=\u001b[32m\"Market\u001b[0m\u001b[32m metrics show moderate liquidity with current ratio above 1, but overall valuation \u001b[0m\n",
       "\u001b[32mremains low compared to market averages, reflecting the company's weak financial health.\"\u001b[0m\n",
       "\u001b[1m)\u001b[0m\n"
      ]
     },
     "metadata": {},
     "output_type": "display_data"
    }
   ],
   "source": [
    "import rich\n",
    "\n",
    "rich.print(response)"
   ]
  },
  {
   "cell_type": "code",
   "execution_count": 26,
   "id": "784100a8",
   "metadata": {},
   "outputs": [
    {
     "data": {
      "text/plain": [
       "StockRegimeAssessment(ticker='XYZ', regime='bear', regime_rationale='Persistent negative profitability metrics, high and increasing debt-to-equity ratio above 2, negative cash flow and FCF yield, and multiple red flags indicating structural weaknesses and elevated financial risk.', metrics_movement='GrossMargin declined slightly, DebtToEquity increased sharply, FCF and FCFYield remained negative and deteriorated further, ROA and ROE stayed negative, indicating ongoing profitability issues.', non_aligned_findings=None, evaluation='undervaluated', evaluation_rationale=\"Despite weak fundamentals and negative cash flows, the stock's valuation appears low relative to its distressed financial position, suggesting potential undervaluation.\", market_comparison=\"Market metrics show moderate liquidity with current ratio above 1, but overall valuation remains low compared to market averages, reflecting the company's weak financial health.\")"
      ]
     },
     "execution_count": 26,
     "metadata": {},
     "output_type": "execute_result"
    }
   ],
   "source": [
    "response"
   ]
  }
 ],
 "metadata": {
  "kernelspec": {
   "display_name": "venv",
   "language": "python",
   "name": "python3"
  },
  "language_info": {
   "codemirror_mode": {
    "name": "ipython",
    "version": 3
   },
   "file_extension": ".py",
   "mimetype": "text/x-python",
   "name": "python",
   "nbconvert_exporter": "python",
   "pygments_lexer": "ipython3",
   "version": "3.12.6"
  }
 },
 "nbformat": 4,
 "nbformat_minor": 5
}
