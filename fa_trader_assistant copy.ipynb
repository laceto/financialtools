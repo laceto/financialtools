{
 "cells": [
  {
   "cell_type": "code",
   "execution_count": 48,
   "id": "92d289c0",
   "metadata": {},
   "outputs": [],
   "source": [
    "\n",
    "# import pandas as pd\n",
    "# import polars as pl\n",
    "\n",
    "from dotenv import load_dotenv \n",
    "load_dotenv()\n",
    "\n",
    "from langchain_core.output_parsers import PydanticOutputParser\n",
    "from langchain.output_parsers import OutputFixingParser\n",
    "from langchain_core.prompts import ChatPromptTemplate\n",
    "from langchain_openai import ChatOpenAI\n",
    "\n",
    "from financialtools.wrappers import read_financial_results\n",
    "from financialtools.pydantic_models import StockRegimeAssessment\n",
    "from financialtools.prompts import system_prompt_StockRegimeAssessment\n",
    "from financialtools.utils import get_sector_for_ticker, get_market_metrics, dataframe_to_json"
   ]
  },
  {
   "cell_type": "code",
   "execution_count": 49,
   "id": "9a9d40dd",
   "metadata": {},
   "outputs": [],
   "source": [
    "ticker = 'ISP.MI'\n",
    "# year = 2024\n",
    "\n",
    "metrics, eval_metrics, composite_scores, red_flags = read_financial_results(\n",
    "    ticker=ticker,\n",
    "    # time=year,\n",
    "    input_dir='financial_data', \n",
    "    sheet_name='sheet1')"
   ]
  },
  {
   "cell_type": "code",
   "execution_count": 50,
   "id": "f8b6b75f",
   "metadata": {},
   "outputs": [],
   "source": [
    "sector = get_sector_for_ticker(ticker)\n",
    "\n",
    "market_metrics = get_market_metrics(\n",
    "    file_path='financial_data/metrics_by_sectors.xlsx',\n",
    "    sector=sector)\n",
    "\n",
    "eval_market_metrics = get_market_metrics(\n",
    "    file_path='financial_data/eval_metrics_by_sectors.xlsx',\n",
    "    sector=sector)"
   ]
  },
  {
   "cell_type": "code",
   "execution_count": 51,
   "id": "1e1cafd4",
   "metadata": {},
   "outputs": [],
   "source": [
    "metrics, eval_metrics, composite_scores, red_flags, market_metrics, eval_market_metrics = [\n",
    "    dataframe_to_json(df)\n",
    "    for df in [metrics, eval_metrics, composite_scores, red_flags, market_metrics, eval_market_metrics]\n",
    "]"
   ]
  },
  {
   "cell_type": "code",
   "execution_count": 53,
   "id": "3da71ce3",
   "metadata": {},
   "outputs": [],
   "source": [
    "\n",
    "# Instantiate the LLM (OpenAI GPT-4 or your preferred model)\n",
    "llm = ChatOpenAI(model=\"gpt-4.1-nano\", temperature=0)\n",
    "\n",
    "# Instantiate the parser with the Pydantic model\n",
    "parser = PydanticOutputParser(pydantic_object=StockRegimeAssessment)\n",
    "# Wrap your parser with OutputFixingParser\n",
    "parser = OutputFixingParser.from_llm(parser=parser, llm=llm)\n",
    "\n",
    "# Get the format instructions string from the parser\n",
    "format_instructions = parser.get_format_instructions()\n",
    "\n",
    "# Create a ChatPromptTemplate with system message and user input\n",
    "\n",
    "system_prompt_filled = system_prompt_StockRegimeAssessment.format(format_instructions=format_instructions)\n",
    "\n",
    "prompt = ChatPromptTemplate.from_messages([\n",
    "    (\"system\", system_prompt_filled),\n",
    "    (\"human\", \"Metrics:\\n{metrics}\\nScores:\\n{composite_scores}\\nEvaluation Metrics:\\n{eval_metrics}\\nRedFlags:\\n{red_flags}\\nMarket metrics:{market_metrics}\\nMarket evaluation metrics:{eval_market_metrics}\"),\n",
    "])\n",
    "\n",
    "# Create a runnable chain: prompt followed by LLM invocation\n",
    "chain = prompt | llm | parser\n",
    "\n",
    "\n",
    "# Then invoke with a dict containing 'financial_data'\n",
    "response = chain.invoke({\n",
    "    \"metrics\": metrics,  \n",
    "    \"eval_metrics\": eval_metrics,\n",
    "    \"composite_scores\": composite_scores,\n",
    "    \"red_flags\": red_flags,   \n",
    "    \"market_metrics\": market_metrics, \n",
    "    \"eval_market_metrics\": eval_market_metrics\n",
    "})\n"
   ]
  },
  {
   "cell_type": "code",
   "execution_count": 54,
   "id": "085bf00f",
   "metadata": {},
   "outputs": [
    {
     "data": {
      "text/html": [
       "<pre style=\"white-space:pre;overflow-x:auto;line-height:normal;font-family:Menlo,'DejaVu Sans Mono',consolas,'Courier New',monospace\"><span style=\"color: #800080; text-decoration-color: #800080; font-weight: bold\">StockRegimeAssessment</span><span style=\"font-weight: bold\">(</span>\n",
       "    <span style=\"color: #808000; text-decoration-color: #808000\">ticker</span>=<span style=\"color: #008000; text-decoration-color: #008000\">'XYZ'</span>,\n",
       "    <span style=\"color: #808000; text-decoration-color: #808000\">regime</span>=<span style=\"color: #008000; text-decoration-color: #008000\">'bear'</span>,\n",
       "    <span style=\"color: #808000; text-decoration-color: #808000\">regime_rationale</span>=<span style=\"color: #008000; text-decoration-color: #008000\">'High leverage with debt-to-equity ratio above 2, negative free cash flow, and deteriorating </span>\n",
       "<span style=\"color: #008000; text-decoration-color: #008000\">liquidity indicators suggest financial stress. Despite some profitability improvements, the overall financial </span>\n",
       "<span style=\"color: #008000; text-decoration-color: #008000\">health is weak, justifying a bear regime.'</span>,\n",
       "    <span style=\"color: #808000; text-decoration-color: #808000\">metrics_movement</span>=<span style=\"color: #008000; text-decoration-color: #008000\">'GrossMargin remained stable, DebtToEquity increased sharply, FCFYield remained negative, ROE </span>\n",
       "<span style=\"color: #008000; text-decoration-color: #008000\">improved slightly, NetProfitMargin declined slightly.'</span>,\n",
       "    <span style=\"color: #808000; text-decoration-color: #808000\">non_aligned_findings</span>=<span style=\"color: #800080; text-decoration-color: #800080; font-style: italic\">None</span>,\n",
       "    <span style=\"color: #808000; text-decoration-color: #808000\">evaluation</span>=<span style=\"color: #008000; text-decoration-color: #008000\">'undervaluated'</span>,\n",
       "    <span style=\"color: #808000; text-decoration-color: #808000\">evaluation_rationale</span>=<span style=\"color: #008000; text-decoration-color: #008000\">'Despite weak fundamentals and high leverage, valuation metrics are below sector averages,</span>\n",
       "<span style=\"color: #008000; text-decoration-color: #008000\">indicating potential undervaluation due to market pessimism or temporary issues.'</span>,\n",
       "    <span style=\"color: #808000; text-decoration-color: #808000\">market_eval_metrics_comparison</span>=<span style=\"color: #008000; text-decoration-color: #008000\">'Stock metrics show lower valuation multiples compared to the market, but </span>\n",
       "<span style=\"color: #008000; text-decoration-color: #008000\">financial health signals are weaker than sector peers.'</span>\n",
       "<span style=\"font-weight: bold\">)</span>\n",
       "</pre>\n"
      ],
      "text/plain": [
       "\u001b[1;35mStockRegimeAssessment\u001b[0m\u001b[1m(\u001b[0m\n",
       "    \u001b[33mticker\u001b[0m=\u001b[32m'XYZ'\u001b[0m,\n",
       "    \u001b[33mregime\u001b[0m=\u001b[32m'bear'\u001b[0m,\n",
       "    \u001b[33mregime_rationale\u001b[0m=\u001b[32m'High leverage with debt-to-equity ratio above 2, negative free cash flow, and deteriorating \u001b[0m\n",
       "\u001b[32mliquidity indicators suggest financial stress. Despite some profitability improvements, the overall financial \u001b[0m\n",
       "\u001b[32mhealth is weak, justifying a bear regime.'\u001b[0m,\n",
       "    \u001b[33mmetrics_movement\u001b[0m=\u001b[32m'GrossMargin remained stable, DebtToEquity increased sharply, FCFYield remained negative, ROE \u001b[0m\n",
       "\u001b[32mimproved slightly, NetProfitMargin declined slightly.'\u001b[0m,\n",
       "    \u001b[33mnon_aligned_findings\u001b[0m=\u001b[3;35mNone\u001b[0m,\n",
       "    \u001b[33mevaluation\u001b[0m=\u001b[32m'undervaluated'\u001b[0m,\n",
       "    \u001b[33mevaluation_rationale\u001b[0m=\u001b[32m'Despite weak fundamentals and high leverage, valuation metrics are below sector averages,\u001b[0m\n",
       "\u001b[32mindicating potential undervaluation due to market pessimism or temporary issues.'\u001b[0m,\n",
       "    \u001b[33mmarket_eval_metrics_comparison\u001b[0m=\u001b[32m'Stock metrics show lower valuation multiples compared to the market, but \u001b[0m\n",
       "\u001b[32mfinancial health signals are weaker than sector peers.'\u001b[0m\n",
       "\u001b[1m)\u001b[0m\n"
      ]
     },
     "metadata": {},
     "output_type": "display_data"
    }
   ],
   "source": [
    "import rich\n",
    "\n",
    "rich.print(response)"
   ]
  }
 ],
 "metadata": {
  "kernelspec": {
   "display_name": "venv",
   "language": "python",
   "name": "python3"
  },
  "language_info": {
   "codemirror_mode": {
    "name": "ipython",
    "version": 3
   },
   "file_extension": ".py",
   "mimetype": "text/x-python",
   "name": "python",
   "nbconvert_exporter": "python",
   "pygments_lexer": "ipython3",
   "version": "3.12.6"
  }
 },
 "nbformat": 4,
 "nbformat_minor": 5
}
