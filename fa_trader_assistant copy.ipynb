{
 "cells": [
  {
   "cell_type": "code",
   "execution_count": 1,
   "id": "92d289c0",
   "metadata": {},
   "outputs": [],
   "source": [
    "\n",
    "from dotenv import load_dotenv, find_dotenv \n",
    "load_dotenv()\n",
    "\n",
    "import pandas as pd\n",
    "import polars as pl\n",
    "from financialtools.utils import dataframe_to_json, get_fin_data_year\n",
    "from financialtools.wrappers import read_financial_results"
   ]
  },
  {
   "cell_type": "code",
   "execution_count": 2,
   "id": "9a9d40dd",
   "metadata": {},
   "outputs": [
    {
     "data": {
      "text/html": [
       "<div>\n",
       "<style scoped>\n",
       "    .dataframe tbody tr th:only-of-type {\n",
       "        vertical-align: middle;\n",
       "    }\n",
       "\n",
       "    .dataframe tbody tr th {\n",
       "        vertical-align: top;\n",
       "    }\n",
       "\n",
       "    .dataframe thead th {\n",
       "        text-align: right;\n",
       "    }\n",
       "</style>\n",
       "<table border=\"1\" class=\"dataframe\">\n",
       "  <thead>\n",
       "    <tr style=\"text-align: right;\">\n",
       "      <th></th>\n",
       "      <th>ticker</th>\n",
       "      <th>time</th>\n",
       "      <th>GrossMargin</th>\n",
       "      <th>OperatingMargin</th>\n",
       "      <th>NetProfitMargin</th>\n",
       "      <th>EBITDAMargin</th>\n",
       "      <th>ROA</th>\n",
       "      <th>ROE</th>\n",
       "      <th>FCFToRevenue</th>\n",
       "      <th>FCFYield</th>\n",
       "      <th>FCFtoDebt</th>\n",
       "      <th>DebtToEquity</th>\n",
       "      <th>CurrentRatio</th>\n",
       "    </tr>\n",
       "  </thead>\n",
       "  <tbody>\n",
       "    <tr>\n",
       "      <th>4</th>\n",
       "      <td>AVIO.MI</td>\n",
       "      <td>2024</td>\n",
       "      <td>0.4241</td>\n",
       "      <td>0.016</td>\n",
       "      <td>0.0195</td>\n",
       "      <td>0.0826</td>\n",
       "      <td>0.0056</td>\n",
       "      <td>0.0201</td>\n",
       "      <td>0.0802</td>\n",
       "      <td>0.0282</td>\n",
       "      <td>2.1651</td>\n",
       "      <td>0.0383</td>\n",
       "      <td>0.82</td>\n",
       "    </tr>\n",
       "  </tbody>\n",
       "</table>\n",
       "</div>"
      ],
      "text/plain": [
       "    ticker  time  GrossMargin  OperatingMargin  NetProfitMargin  EBITDAMargin  \\\n",
       "4  AVIO.MI  2024       0.4241            0.016           0.0195        0.0826   \n",
       "\n",
       "      ROA     ROE  FCFToRevenue  FCFYield  FCFtoDebt  DebtToEquity  \\\n",
       "4  0.0056  0.0201        0.0802    0.0282     2.1651        0.0383   \n",
       "\n",
       "   CurrentRatio  \n",
       "4          0.82  "
      ]
     },
     "execution_count": 2,
     "metadata": {},
     "output_type": "execute_result"
    }
   ],
   "source": [
    "ticker = 'AVIO.MI'\n",
    "year = 2024\n",
    "\n",
    "metrics, eval_metrics, composite_scores, red_flags = read_financial_results(\n",
    "    ticker=ticker,\n",
    "    time=year,\n",
    "    input_dir='financial_data', \n",
    "    sheet_name='sheet1')\n",
    "\n",
    "metrics"
   ]
  },
  {
   "cell_type": "code",
   "execution_count": 3,
   "id": "1e1cafd4",
   "metadata": {},
   "outputs": [],
   "source": [
    "metrics, eval_metrics, composite_scores, red_flags = [\n",
    "    dataframe_to_json(df)\n",
    "    for df in [metrics, eval_metrics, composite_scores, red_flags]\n",
    "]"
   ]
  },
  {
   "cell_type": "code",
   "execution_count": 4,
   "id": "c08c4d77",
   "metadata": {},
   "outputs": [
    {
     "data": {
      "text/plain": [
       "'[{\"ticker\": \"AVIO.MI\", \"time\": 2024, \"GrossMargin\": 0.4241, \"OperatingMargin\": 0.016, \"NetProfitMargin\": 0.0195, \"EBITDAMargin\": 0.0826, \"ROA\": 0.0056, \"ROE\": 0.0201, \"FCFToRevenue\": 0.0802, \"FCFYield\": 0.0282, \"FCFtoDebt\": 2.1651, \"DebtToEquity\": 0.0383, \"CurrentRatio\": 0.82}]'"
      ]
     },
     "execution_count": 4,
     "metadata": {},
     "output_type": "execute_result"
    }
   ],
   "source": [
    "metrics"
   ]
  },
  {
   "cell_type": "code",
   "execution_count": 5,
   "id": "05de8d27",
   "metadata": {},
   "outputs": [
    {
     "data": {
      "text/plain": [
       "'[{\"ticker\": \"AVIO.MI\", \"time\": 2024, \"bvps\": 11.6167, \"fcf_per_share\": 0.9629, \"eps\": 0.23, \"P/E\": 148.6957, \"P/B\": 2.944, \"P/FCF\": 35.5177, \"EarningsYield\": 0.0067, \"FCFYield\": 0.0282}]'"
      ]
     },
     "execution_count": 5,
     "metadata": {},
     "output_type": "execute_result"
    }
   ],
   "source": [
    "eval_metrics"
   ]
  },
  {
   "cell_type": "code",
   "execution_count": 6,
   "id": "dd00567a",
   "metadata": {},
   "outputs": [
    {
     "data": {
      "text/plain": [
       "'[{\"ticker\": \"AVIO.MI\", \"time\": 2024, \"composite_score\": 2.02}]'"
      ]
     },
     "execution_count": 6,
     "metadata": {},
     "output_type": "execute_result"
    }
   ],
   "source": [
    "composite_scores"
   ]
  },
  {
   "cell_type": "code",
   "execution_count": 7,
   "id": "3376d95e",
   "metadata": {},
   "outputs": [
    {
     "data": {
      "text/plain": [
       "'[]'"
      ]
     },
     "execution_count": 7,
     "metadata": {},
     "output_type": "execute_result"
    }
   ],
   "source": [
    "red_flags"
   ]
  },
  {
   "cell_type": "code",
   "execution_count": 8,
   "id": "3da71ce3",
   "metadata": {},
   "outputs": [
    {
     "ename": "ImportError",
     "evalue": "cannot import name 'StockRegimeAssessment' from 'financialtools.pydantic_models' (c:\\Users\\l_ace\\Desktop\\projects\\financialtools\\financialtools\\pydantic_models.py)",
     "output_type": "error",
     "traceback": [
      "\u001b[31m---------------------------------------------------------------------------\u001b[39m",
      "\u001b[31mImportError\u001b[39m                               Traceback (most recent call last)",
      "\u001b[36mCell\u001b[39m\u001b[36m \u001b[39m\u001b[32mIn[8]\u001b[39m\u001b[32m, line 1\u001b[39m\n\u001b[32m----> \u001b[39m\u001b[32m1\u001b[39m \u001b[38;5;28;01mfrom\u001b[39;00m\u001b[38;5;250m \u001b[39m\u001b[34;01mfinancialtools\u001b[39;00m\u001b[34;01m.\u001b[39;00m\u001b[34;01mpydantic_models\u001b[39;00m\u001b[38;5;250m \u001b[39m\u001b[38;5;28;01mimport\u001b[39;00m StockRegimeAssessment\n\u001b[32m      3\u001b[39m \u001b[38;5;66;03m# from pydantic import BaseModel, Field\u001b[39;00m\n\u001b[32m      4\u001b[39m \u001b[38;5;66;03m# from typing import Literal, List, Dict, Optional\u001b[39;00m\n\u001b[32m      5\u001b[39m \u001b[38;5;66;03m# from langchain_core.output_parsers import PydanticOutputParser\u001b[39;00m\n\u001b[32m      7\u001b[39m \u001b[38;5;28;01mfrom\u001b[39;00m\u001b[38;5;250m \u001b[39m\u001b[34;01mlangchain\u001b[39;00m\u001b[34;01m.\u001b[39;00m\u001b[34;01moutput_parsers\u001b[39;00m\u001b[38;5;250m \u001b[39m\u001b[38;5;28;01mimport\u001b[39;00m OutputFixingParser\n",
      "\u001b[31mImportError\u001b[39m: cannot import name 'StockRegimeAssessment' from 'financialtools.pydantic_models' (c:\\Users\\l_ace\\Desktop\\projects\\financialtools\\financialtools\\pydantic_models.py)"
     ]
    }
   ],
   "source": [
    "from financialtools.pydantic_models import StockRegimeAssessment\n",
    "\n",
    "# from pydantic import BaseModel, Field\n",
    "# from typing import Literal, List, Dict, Optional\n",
    "# from langchain_core.output_parsers import PydanticOutputParser\n",
    "\n",
    "from langchain.output_parsers import OutputFixingParser\n",
    "\n",
    "from langchain_core.prompts import ChatPromptTemplate\n",
    "from langchain_openai import ChatOpenAI\n",
    "\n",
    "# # Pydantic output model\n",
    "# class StockRegimeAssessment(BaseModel):\n",
    "#     regime: Literal[\"bull\", \"bear\"] = Field(\n",
    "#         ..., description=\"The fundamental regime classification of the stock\"\n",
    "#     )\n",
    "#     rationale: str = Field(\n",
    "#         ..., description=\"Concise explanation justifying the regime classification based on the financial metrics, composite ratio and red flags\"\n",
    "#     )\n",
    "#     metrics_movement: str = Field(\n",
    "#         ..., description=(\n",
    "#             \"A summary description of how key financial metrics have moved across years, \"\n",
    "#             \"e.g., 'GrossMargin increased steadily, DebtToEquity rose sharply, FCFYield remained stable.'\"\n",
    "#         )\n",
    "#     )\n",
    "#     non_aligned_findings: Optional[str] = Field(\n",
    "#         None,\n",
    "#         description=(\n",
    "#             \"Observations or signals that are not aligned with the overall metric trends, \"\n",
    "#             \"such as contradictory indicators, anomalies.\"\n",
    "#         )\n",
    "#     )\n",
    "\n",
    "\n",
    "# Instantiate the LLM (OpenAI GPT-4 or your preferred model)\n",
    "llm = ChatOpenAI(model=\"gpt-4.1-nano\", temperature=0)\n",
    "\n",
    "# Instantiate the parser with the Pydantic model\n",
    "parser = PydanticOutputParser(pydantic_object=StockRegimeAssessment)\n",
    "# Wrap your parser with OutputFixingParser\n",
    "parser = OutputFixingParser.from_llm(parser=parser, llm=llm)\n",
    "\n",
    "# Get the format instructions string from the parser\n",
    "format_instructions = parser.get_format_instructions()\n",
    "\n",
    "system_prompt_template = \"\"\"\n",
    "You are a trader assistant specializing in fundamental analysis. \n",
    "\n",
    "Based on the following financial data, provide a concise overall assessment that classifies \n",
    "the stock’s current fundamental regime as one of:\n",
    "\n",
    "- bull: Strong and improving fundamentals supporting a positive outlook.\n",
    "- bear: Weak or deteriorating fundamentals indicating risk or decline.\n",
    "\n",
    "Financial data constists of financial metrics, evaluation metrics, composite score and red flags.\n",
    "\n",
    "Financial metrics provided are the following:\n",
    "\n",
    "Profitability and Margin Metrics:\n",
    "    -GrossMargin: gross profit / total revenue \n",
    "    -OperatingMargin: operating income / total revenue\n",
    "    -NetProfitMargin: net income / total revenue\n",
    "    -EBITDAMargin: ebitda / total revenue\n",
    "Returns metrics:\n",
    "    -ROA: net income / total assets\n",
    "    -ROE: net income / total equity\n",
    "Cash Flow Strength metrics: \n",
    "    -FCFToRevenue: free cash flow / total revenue\n",
    "    -FCFYield: free cash flow / market capitalization\n",
    "    -FCFToDebt:: free cash flow / total debt\n",
    "Leverage & Solvency metrics:\n",
    "    -DebtToEquity: total debt / total equity\n",
    "Liquidity metrics:\n",
    "    -CurrentRatio: working capital / total liabilities\n",
    "\n",
    "\n",
    "Evaluation metrics provided are the following:\n",
    "    -bvps: total equity / shares outstanding\n",
    "    -fcf_per_share: free cash flow / shares outstanding\n",
    "    -eps: earning per share\n",
    "    -P/E: current stock price / eps\n",
    "    -P/B: current stock price / bvps\n",
    "    -P/FCF: current stock price / fcf_per_share\n",
    "    -EarningsYield: eps / current stock price\n",
    "    -FCFYield: free cash flow / market capitalization\n",
    "\n",
    "The composite score is a weighted average (1 to 5) that summarizes the company’s overall fundamental health.\n",
    "It reflects profitability, efficiency, leverage, liquidity, and cash flow strength, based on the above mentioned financial metrics (evaluation metrics do not kick in the calculation).\n",
    "\n",
    "The composite score ranges:\n",
    "1 = Weak fundamentals\n",
    "5 = Strong fundamentals\n",
    "\n",
    "Each financial metric (evaluation metric do not kick in in the calculation) is scored on a 1–5 scale and multiplied by its weight. The composite score is the sum of weighted scores divided by the total weight.\n",
    "\n",
    "A red flag is an early warning signal that highlights potential weaknesses in a company’s financial statements \n",
    "or business quality. These warnings do not always mean immediate distress, but they indicate heightened risk that \n",
    "traders should carefully consider before taking a position.\n",
    "\n",
    "\"\"\"\n",
    "\n",
    "# Create a ChatPromptTemplate with system message and user input\n",
    "\n",
    "system_prompt_filled = system_prompt_template.format(format_instructions=format_instructions)\n",
    "\n",
    "prompt = ChatPromptTemplate.from_messages([\n",
    "    (\"system\", system_prompt_filled),\n",
    "    (\"human\", \"Metrics:\\n{metrics}\\nScores:\\n{scores}\\nEvaluation Metrics:\\n{eval_metrics}\\nRedFlags:\\n{red_flags}\"),\n",
    "])\n",
    "\n",
    "# Create a runnable chain: prompt followed by LLM invocation\n",
    "chain = prompt | llm | parser\n",
    "\n",
    "\n",
    "# Then invoke with a dict containing 'financial_data'\n",
    "response = chain.invoke({\n",
    "    \"metrics\": metrics,  \n",
    "    \"eval_metrics\": eval_metrics,\n",
    "    \"scores\": composite_scores,\n",
    "    \"red_flags\": red_flags,    \n",
    "})\n"
   ]
  },
  {
   "cell_type": "code",
   "execution_count": null,
   "id": "085bf00f",
   "metadata": {},
   "outputs": [
    {
     "data": {
      "text/html": [
       "<pre style=\"white-space:pre;overflow-x:auto;line-height:normal;font-family:Menlo,'DejaVu Sans Mono',consolas,'Courier New',monospace\"><span style=\"color: #800080; text-decoration-color: #800080; font-weight: bold\">StockRegimeAssessment</span><span style=\"font-weight: bold\">(</span>\n",
       "    <span style=\"color: #808000; text-decoration-color: #808000\">regime</span>=<span style=\"color: #008000; text-decoration-color: #008000\">'bear'</span>,\n",
       "    <span style=\"color: #808000; text-decoration-color: #808000\">rationale</span>=<span style=\"color: #008000; text-decoration-color: #008000\">\"The company's financial metrics show weak profitability with low margins and return ratios, </span>\n",
       "<span style=\"color: #008000; text-decoration-color: #008000\">indicating limited efficiency and earnings power. The high P/E ratio suggests overvaluation, and the low current </span>\n",
       "<span style=\"color: #008000; text-decoration-color: #008000\">ratio points to liquidity concerns. The overall composite score is weak, reflecting underlying challenges without </span>\n",
       "<span style=\"color: #008000; text-decoration-color: #008000\">significant red flags. These factors collectively justify a bearish outlook.\"</span>,\n",
       "    <span style=\"color: #808000; text-decoration-color: #808000\">metrics_movement</span>=<span style=\"color: #008000; text-decoration-color: #008000\">'GrossMargin remained stable at 42.4%, OperatingMargin and NetMargin stayed low at 1.6% and </span>\n",
       "<span style=\"color: #008000; text-decoration-color: #008000\">1.95%, ROA and ROE remained weak, while FreeCashFlowYield was positive at 2.82%. Debt-to-Equity ratio stayed low at</span>\n",
       "<span style=\"color: #008000; text-decoration-color: #008000\">0.0383, but CurrentRatio declined to 0.82, indicating liquidity issues.'</span>,\n",
       "    <span style=\"color: #808000; text-decoration-color: #808000\">non_aligned_findings</span>=<span style=\"color: #800080; text-decoration-color: #800080; font-style: italic\">None</span>\n",
       "<span style=\"font-weight: bold\">)</span>\n",
       "</pre>\n"
      ],
      "text/plain": [
       "\u001b[1;35mStockRegimeAssessment\u001b[0m\u001b[1m(\u001b[0m\n",
       "    \u001b[33mregime\u001b[0m=\u001b[32m'bear'\u001b[0m,\n",
       "    \u001b[33mrationale\u001b[0m=\u001b[32m\"The\u001b[0m\u001b[32m company's financial metrics show weak profitability with low margins and return ratios, \u001b[0m\n",
       "\u001b[32mindicating limited efficiency and earnings power. The high P/E ratio suggests overvaluation, and the low current \u001b[0m\n",
       "\u001b[32mratio points to liquidity concerns. The overall composite score is weak, reflecting underlying challenges without \u001b[0m\n",
       "\u001b[32msignificant red flags. These factors collectively justify a bearish outlook.\"\u001b[0m,\n",
       "    \u001b[33mmetrics_movement\u001b[0m=\u001b[32m'GrossMargin remained stable at 42.4%, OperatingMargin and NetMargin stayed low at 1.6% and \u001b[0m\n",
       "\u001b[32m1.95%, ROA and ROE remained weak, while FreeCashFlowYield was positive at 2.82%. Debt-to-Equity ratio stayed low at\u001b[0m\n",
       "\u001b[32m0.0383, but CurrentRatio declined to 0.82, indicating liquidity issues.'\u001b[0m,\n",
       "    \u001b[33mnon_aligned_findings\u001b[0m=\u001b[3;35mNone\u001b[0m\n",
       "\u001b[1m)\u001b[0m\n"
      ]
     },
     "metadata": {},
     "output_type": "display_data"
    }
   ],
   "source": [
    "import rich\n",
    "\n",
    "rich.print(response)"
   ]
  }
 ],
 "metadata": {
  "kernelspec": {
   "display_name": "venv",
   "language": "python",
   "name": "python3"
  },
  "language_info": {
   "codemirror_mode": {
    "name": "ipython",
    "version": 3
   },
   "file_extension": ".py",
   "mimetype": "text/x-python",
   "name": "python",
   "nbconvert_exporter": "python",
   "pygments_lexer": "ipython3",
   "version": "3.12.6"
  }
 },
 "nbformat": 4,
 "nbformat_minor": 5
}
