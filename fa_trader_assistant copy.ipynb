{
 "cells": [
  {
   "cell_type": "code",
   "execution_count": 60,
   "id": "92d289c0",
   "metadata": {},
   "outputs": [],
   "source": [
    "# from utils import *\n",
    "from dotenv import load_dotenv, find_dotenv \n",
    "load_dotenv()\n",
    "\n",
    "import pandas as pd\n",
    "import polars as pl\n"
   ]
  },
  {
   "cell_type": "code",
   "execution_count": 61,
   "id": "d003309a",
   "metadata": {},
   "outputs": [
    {
     "data": {
      "text/html": [
       "<div>\n",
       "<style scoped>\n",
       "    .dataframe tbody tr th:only-of-type {\n",
       "        vertical-align: middle;\n",
       "    }\n",
       "\n",
       "    .dataframe tbody tr th {\n",
       "        vertical-align: top;\n",
       "    }\n",
       "\n",
       "    .dataframe thead th {\n",
       "        text-align: right;\n",
       "    }\n",
       "</style>\n",
       "<table border=\"1\" class=\"dataframe\">\n",
       "  <thead>\n",
       "    <tr style=\"text-align: right;\">\n",
       "      <th></th>\n",
       "      <th>ticker</th>\n",
       "      <th>time</th>\n",
       "      <th>GrossMargin</th>\n",
       "      <th>OperatingMargin</th>\n",
       "      <th>NetProfitMargin</th>\n",
       "      <th>EBITDAMargin</th>\n",
       "      <th>ROA</th>\n",
       "      <th>ROE</th>\n",
       "      <th>FCFToRevenue</th>\n",
       "      <th>FCFYield</th>\n",
       "      <th>FCFtoDebt</th>\n",
       "      <th>DebtToEquity</th>\n",
       "      <th>CurrentRatio</th>\n",
       "    </tr>\n",
       "  </thead>\n",
       "  <tbody>\n",
       "    <tr>\n",
       "      <th>0</th>\n",
       "      <td>CPR.MI</td>\n",
       "      <td>2020</td>\n",
       "      <td>NaN</td>\n",
       "      <td>NaN</td>\n",
       "      <td>NaN</td>\n",
       "      <td>NaN</td>\n",
       "      <td>NaN</td>\n",
       "      <td>NaN</td>\n",
       "      <td>NaN</td>\n",
       "      <td>NaN</td>\n",
       "      <td>NaN</td>\n",
       "      <td>NaN</td>\n",
       "      <td>NaN</td>\n",
       "    </tr>\n",
       "    <tr>\n",
       "      <th>1</th>\n",
       "      <td>CPR.MI</td>\n",
       "      <td>2021</td>\n",
       "      <td>0.596861</td>\n",
       "      <td>0.184471</td>\n",
       "      <td>0.131081</td>\n",
       "      <td>0.228564</td>\n",
       "      <td>0.055919</td>\n",
       "      <td>0.120078</td>\n",
       "      <td>0.155521</td>\n",
       "      <td>0.094584</td>\n",
       "      <td>0.220461</td>\n",
       "      <td>0.646218</td>\n",
       "      <td>0.355148</td>\n",
       "    </tr>\n",
       "    <tr>\n",
       "      <th>2</th>\n",
       "      <td>CPR.MI</td>\n",
       "      <td>2022</td>\n",
       "      <td>0.588857</td>\n",
       "      <td>0.204070</td>\n",
       "      <td>0.123443</td>\n",
       "      <td>0.221308</td>\n",
       "      <td>0.055359</td>\n",
       "      <td>0.124430</td>\n",
       "      <td>0.009305</td>\n",
       "      <td>0.005846</td>\n",
       "      <td>0.014028</td>\n",
       "      <td>0.668597</td>\n",
       "      <td>0.278036</td>\n",
       "    </tr>\n",
       "    <tr>\n",
       "      <th>3</th>\n",
       "      <td>CPR.MI</td>\n",
       "      <td>2023</td>\n",
       "      <td>0.582505</td>\n",
       "      <td>0.207325</td>\n",
       "      <td>0.113239</td>\n",
       "      <td>0.221853</td>\n",
       "      <td>0.049509</td>\n",
       "      <td>0.112984</td>\n",
       "      <td>-0.054410</td>\n",
       "      <td>-0.033986</td>\n",
       "      <td>-0.070456</td>\n",
       "      <td>0.770511</td>\n",
       "      <td>0.318422</td>\n",
       "    </tr>\n",
       "    <tr>\n",
       "      <th>4</th>\n",
       "      <td>CPR.MI</td>\n",
       "      <td>2024</td>\n",
       "      <td>0.575542</td>\n",
       "      <td>0.193921</td>\n",
       "      <td>0.065672</td>\n",
       "      <td>0.160727</td>\n",
       "      <td>0.023764</td>\n",
       "      <td>0.052309</td>\n",
       "      <td>0.068539</td>\n",
       "      <td>0.033131</td>\n",
       "      <td>0.073474</td>\n",
       "      <td>0.743020</td>\n",
       "      <td>0.366508</td>\n",
       "    </tr>\n",
       "  </tbody>\n",
       "</table>\n",
       "</div>"
      ],
      "text/plain": [
       "   ticker  time  GrossMargin  OperatingMargin  NetProfitMargin  EBITDAMargin  \\\n",
       "0  CPR.MI  2020          NaN              NaN              NaN           NaN   \n",
       "1  CPR.MI  2021     0.596861         0.184471         0.131081      0.228564   \n",
       "2  CPR.MI  2022     0.588857         0.204070         0.123443      0.221308   \n",
       "3  CPR.MI  2023     0.582505         0.207325         0.113239      0.221853   \n",
       "4  CPR.MI  2024     0.575542         0.193921         0.065672      0.160727   \n",
       "\n",
       "        ROA       ROE  FCFToRevenue  FCFYield  FCFtoDebt  DebtToEquity  \\\n",
       "0       NaN       NaN           NaN       NaN        NaN           NaN   \n",
       "1  0.055919  0.120078      0.155521  0.094584   0.220461      0.646218   \n",
       "2  0.055359  0.124430      0.009305  0.005846   0.014028      0.668597   \n",
       "3  0.049509  0.112984     -0.054410 -0.033986  -0.070456      0.770511   \n",
       "4  0.023764  0.052309      0.068539  0.033131   0.073474      0.743020   \n",
       "\n",
       "   CurrentRatio  \n",
       "0           NaN  \n",
       "1      0.355148  \n",
       "2      0.278036  \n",
       "3      0.318422  \n",
       "4      0.366508  "
      ]
     },
     "execution_count": 61,
     "metadata": {},
     "output_type": "execute_result"
    }
   ],
   "source": [
    "\n",
    "metrics = (pl.from_pandas(pd.read_excel('financialtools/data/metrics.xlsx'))\n",
    "    .filter(pl.col(\"ticker\") == \"CPR.MI\")\n",
    "    .to_pandas())\n",
    "\n",
    "metrics"
   ]
  },
  {
   "cell_type": "code",
   "execution_count": 62,
   "id": "335777ab",
   "metadata": {},
   "outputs": [],
   "source": [
    "metrics = metrics.to_json(orient=\"records\") "
   ]
  },
  {
   "cell_type": "code",
   "execution_count": 63,
   "id": "05e85876",
   "metadata": {},
   "outputs": [
    {
     "data": {
      "text/plain": [
       "'[{\"ticker\":\"CPR.MI\",\"time\":2020,\"composite_score\":3.0},{\"ticker\":\"CPR.MI\",\"time\":2021,\"composite_score\":3.52},{\"ticker\":\"CPR.MI\",\"time\":2022,\"composite_score\":3.04},{\"ticker\":\"CPR.MI\",\"time\":2023,\"composite_score\":2.86},{\"ticker\":\"CPR.MI\",\"time\":2024,\"composite_score\":2.74}]'"
      ]
     },
     "execution_count": 63,
     "metadata": {},
     "output_type": "execute_result"
    }
   ],
   "source": [
    "\n",
    "composite_scores = (pl.from_pandas(pd.read_excel('financialtools/data/composite_scores.xlsx'))\n",
    "    .filter(pl.col(\"ticker\") == \"CPR.MI\")\n",
    "    .to_pandas())\n",
    "\n",
    "composite_scores = composite_scores.to_json(orient=\"records\") \n",
    "\n",
    "composite_scores\n"
   ]
  },
  {
   "cell_type": "code",
   "execution_count": null,
   "id": "4decb9ad",
   "metadata": {},
   "outputs": [],
   "source": [
    "from pydantic import BaseModel, Field\n",
    "from typing import Literal, List, Dict\n",
    "from langchain_core.output_parsers import PydanticOutputParser\n",
    "from langchain.output_parsers import OutputFixingParser\n",
    "\n",
    "from langchain_core.prompts import ChatPromptTemplate\n",
    "from langchain_openai import ChatOpenAI\n",
    "\n",
    "# Pydantic output model\n",
    "class StockRegimeAssessment(BaseModel):\n",
    "    regime: Literal[\"bull\", \"bear\", \"postpone\"] = Field(\n",
    "        ..., description=\"The fundamental regime classification of the stock\"\n",
    "    )\n",
    "    rationale: str = Field(\n",
    "        ..., description=\"Concise explanation justifying the regime classification\"\n",
    "    )\n",
    "    metrics_movement: Dict[str, str] = Field(\n",
    "            ..., description=(\n",
    "                \"Summary of how key financial metrics have moved across years. \"\n",
    "                \"Keys are metric names, values describe the movement, e.g., \"\n",
    "                \"'GrossMargin': 'increased steadily', 'DebtToEquity': 'rose sharply'\"\n",
    "            )\n",
    "        )\n",
    "\n",
    "\n",
    "# Instantiate the LLM (OpenAI GPT-4 or your preferred model)\n",
    "llm = ChatOpenAI(model=\"gpt-4.1-nano\", temperature=0)\n",
    "\n",
    "# Instantiate the parser with the Pydantic model\n",
    "parser = PydanticOutputParser(pydantic_object=StockRegimeAssessment)\n",
    "# Wrap your parser with OutputFixingParser\n",
    "parser = OutputFixingParser.from_llm(parser=parser, llm=llm)\n",
    "\n",
    "# Get the format instructions string from the parser\n",
    "format_instructions = parser.get_format_instructions()\n",
    "\n",
    "system_prompt_template = \"\"\"\n",
    "You are a trader assistant specializing in fundamental analysis. \n",
    "\n",
    "Based on the following financial data, provide a concise overall assessment that classifies \n",
    "the stock’s current fundamental regime as one of:\n",
    "\n",
    "- bull: Strong and improving fundamentals supporting a positive outlook.\n",
    "- bear: Weak or deteriorating fundamentals indicating risk or decline.\n",
    "- postpone: Mixed or inconclusive fundamentals suggesting to wait for clearer signals.\n",
    "\n",
    "Financial data constists of financial metrics, composite score and red flags.\n",
    "\n",
    "Profitability and Margin Metrics:\n",
    "    -GrossMargin: gross profit / total revenue \n",
    "    -OperatingMargin: operating income / total revenue\n",
    "    -NetProfitMargin: net income / total revenue\n",
    "    -EBITDAMargin: ebitda / total revenue\n",
    "Returns metrics:\n",
    "    -ROA: net income / total assets\n",
    "    -ROE: net income / total equity\n",
    "Cash Flow Strength metrics: \n",
    "    -FCFToRevenue: free cash flow / total revenue\n",
    "    -FCFYield: free cash flow / market capitalization\n",
    "    -FCFToDebt:: free cash flow / total debt\n",
    "Leverage & Solvency metrics:\n",
    "    -DebtToEquity: total debt / total equity\n",
    "Liquidity metrics:\n",
    "    -CurrentRatio: working capital / total liabilities\n",
    "\n",
    "\n",
    "\"\"\"\n",
    "\n",
    "# Create a ChatPromptTemplate with system message and user input\n",
    "\n",
    "# Format the system prompt with format_instructions\n",
    "system_prompt_filled = system_prompt_template.format(format_instructions=format_instructions)\n",
    "\n",
    "prompt = ChatPromptTemplate.from_messages([\n",
    "    (\"system\", system_prompt_filled),\n",
    "    (\"human\", \"{financial_data}\"),\n",
    "])\n",
    "\n",
    "\n",
    "\n",
    "\n",
    "# Create a runnable chain: prompt followed by LLM invocation\n",
    "chain = prompt | llm | parser\n",
    "\n",
    "# Then invoke with a dict containing 'financial_data'\n",
    "response = chain.invoke({\"financial_data\": metrics})"
   ]
  },
  {
   "cell_type": "code",
   "execution_count": 45,
   "id": "23b2f29c",
   "metadata": {},
   "outputs": [
    {
     "data": {
      "text/plain": [
       "StockRegimeAssessment(regime='postpone', rationale=\"The company's fundamentals are mixed, showing some stability in margins and efficiency metrics but also signs of weakening profitability and liquidity issues, such as declining net profit margin, negative cash flow in 2023, and low current ratio. These conflicting signals justify a cautious wait-and-see approach.\", metrics_movement={'GrossMargin': 'remained stable around 58-59%', 'OperatingMargin': 'remained stable around 18-20%', 'ROE': 'modest but positive', 'ROA': 'modest but positive', 'FreeCashFlowToRevenue': 'positive in 2024', 'FCF_Yield': 'low (~3%)', 'FCF_to_Debt': 'modest (~7%)', 'NetProfitMargin': 'declined from ~13% in 2021-2022 to ~6.5% in 2024', 'CurrentRatio': 'below 1 (~0.28-0.37)', 'DebtToEquity': 'high (~0.74-0.77)', 'FreeCashFlow': 'negative in 2023'})"
      ]
     },
     "execution_count": 45,
     "metadata": {},
     "output_type": "execute_result"
    }
   ],
   "source": [
    "    response"
   ]
  },
  {
   "cell_type": "code",
   "execution_count": null,
   "id": "7dc940ea",
   "metadata": {},
   "outputs": [],
   "source": [
    "# 7. Prepare batch inputs by converting each dict to string\n",
    "# batch_inputs = [{\"input\": str(stock_input)} for stock_input in json_data]"
   ]
  },
  {
   "cell_type": "code",
   "execution_count": 51,
   "id": "ca078229",
   "metadata": {},
   "outputs": [
    {
     "data": {
      "text/plain": [
       "ChatPromptValue(messages=[SystemMessage(content='\\nYou are a trader assistant specializing in fundamental analysis. \\n\\nBased on the following financial data, provide a concise overall assessment that classifies \\nthe stock’s current fundamental regime as one of:\\n\\n- bull: Strong and improving fundamentals supporting a positive outlook.\\n- bear: Weak or deteriorating fundamentals indicating risk or decline.\\n- postpone: Mixed or inconclusive fundamentals suggesting to wait for clearer signals.\\n\\nYour assessment should:\\n- Summarize key strengths and weaknesses.\\n- Highlight significant red flags impacting the outlook.\\n- Justify the regime classification clearly and succinctly.\\n\\nMetrics the user will input:\\n    -GrossMargin: gross profit / total revenue \\n    -OperatingMargin: operating income / total revenue\\n    -NetProfitMargin: net income / total revenue\\n    -EBITDAMargin: ebitda / total revenue\\n    -ROA: net income / total assets\\n    -ROE: net income / total equity\\n    -FCFToRevenue: free cash flow / total revenue\\n    -FCFYield: free cash flow / market capitalization\\n    -FCFToDebt:: free cash flow / total debt\\n    -DebtToEquity: total debt / total equity\\n    -CurrentRatio: working capital / total liabilities\\n\\n\\n', additional_kwargs={}, response_metadata={}), HumanMessage(content='   ticker  time  GrossMargin  OperatingMargin  NetProfitMargin  EBITDAMargin  \\\\\\n0  CPR.MI  2020          NaN              NaN              NaN           NaN   \\n1  CPR.MI  2021     0.596861         0.184471         0.131081      0.228564   \\n2  CPR.MI  2022     0.588857         0.204070         0.123443      0.221308   \\n3  CPR.MI  2023     0.582505         0.207325         0.113239      0.221853   \\n4  CPR.MI  2024     0.575542         0.193921         0.065672      0.160727   \\n\\n        ROA       ROE  FCFToRevenue  FCFYield  FCFtoDebt  DebtToEquity  \\\\\\n0       NaN       NaN           NaN       NaN        NaN           NaN   \\n1  0.055919  0.120078      0.155521  0.094584   0.220461      0.646218   \\n2  0.055359  0.124430      0.009305  0.005846   0.014028      0.668597   \\n3  0.049509  0.112984     -0.054410 -0.033986  -0.070456      0.770511   \\n4  0.023764  0.052309      0.068539  0.033131   0.073474      0.743020   \\n\\n   CurrentRatio  \\n0           NaN  \\n1      0.355148  \\n2      0.278036  \\n3      0.318422  \\n4      0.366508  ', additional_kwargs={}, response_metadata={})])"
      ]
     },
     "execution_count": 51,
     "metadata": {},
     "output_type": "execute_result"
    }
   ],
   "source": [
    "prompt_value = prompt.invoke({\"financial_data\": metrics})\n",
    "\n",
    "prompt_value"
   ]
  },
  {
   "cell_type": "code",
   "execution_count": 52,
   "id": "ba381d77",
   "metadata": {},
   "outputs": [
    {
     "data": {
      "text/plain": [
       "[SystemMessage(content='\\nYou are a trader assistant specializing in fundamental analysis. \\n\\nBased on the following financial data, provide a concise overall assessment that classifies \\nthe stock’s current fundamental regime as one of:\\n\\n- bull: Strong and improving fundamentals supporting a positive outlook.\\n- bear: Weak or deteriorating fundamentals indicating risk or decline.\\n- postpone: Mixed or inconclusive fundamentals suggesting to wait for clearer signals.\\n\\nYour assessment should:\\n- Summarize key strengths and weaknesses.\\n- Highlight significant red flags impacting the outlook.\\n- Justify the regime classification clearly and succinctly.\\n\\nMetrics the user will input:\\n    -GrossMargin: gross profit / total revenue \\n    -OperatingMargin: operating income / total revenue\\n    -NetProfitMargin: net income / total revenue\\n    -EBITDAMargin: ebitda / total revenue\\n    -ROA: net income / total assets\\n    -ROE: net income / total equity\\n    -FCFToRevenue: free cash flow / total revenue\\n    -FCFYield: free cash flow / market capitalization\\n    -FCFToDebt:: free cash flow / total debt\\n    -DebtToEquity: total debt / total equity\\n    -CurrentRatio: working capital / total liabilities\\n\\n\\n', additional_kwargs={}, response_metadata={}),\n",
       " HumanMessage(content='   ticker  time  GrossMargin  OperatingMargin  NetProfitMargin  EBITDAMargin  \\\\\\n0  CPR.MI  2020          NaN              NaN              NaN           NaN   \\n1  CPR.MI  2021     0.596861         0.184471         0.131081      0.228564   \\n2  CPR.MI  2022     0.588857         0.204070         0.123443      0.221308   \\n3  CPR.MI  2023     0.582505         0.207325         0.113239      0.221853   \\n4  CPR.MI  2024     0.575542         0.193921         0.065672      0.160727   \\n\\n        ROA       ROE  FCFToRevenue  FCFYield  FCFtoDebt  DebtToEquity  \\\\\\n0       NaN       NaN           NaN       NaN        NaN           NaN   \\n1  0.055919  0.120078      0.155521  0.094584   0.220461      0.646218   \\n2  0.055359  0.124430      0.009305  0.005846   0.014028      0.668597   \\n3  0.049509  0.112984     -0.054410 -0.033986  -0.070456      0.770511   \\n4  0.023764  0.052309      0.068539  0.033131   0.073474      0.743020   \\n\\n   CurrentRatio  \\n0           NaN  \\n1      0.355148  \\n2      0.278036  \\n3      0.318422  \\n4      0.366508  ', additional_kwargs={}, response_metadata={})]"
      ]
     },
     "execution_count": 52,
     "metadata": {},
     "output_type": "execute_result"
    }
   ],
   "source": [
    "prompt_value.messages"
   ]
  },
  {
   "cell_type": "code",
   "execution_count": 56,
   "id": "4f8584e8",
   "metadata": {},
   "outputs": [
    {
     "name": "stdout",
     "output_type": "stream",
     "text": [
      "\n",
      "You are a trader assistant specializing in fundamental analysis. \n",
      "\n",
      "Based on the following financial data, provide a concise overall assessment that classifies \n",
      "the stock’s current fundamental regime as one of:\n",
      "\n",
      "- bull: Strong and improving fundamentals supporting a positive outlook.\n",
      "- bear: Weak or deteriorating fundamentals indicating risk or decline.\n",
      "- postpone: Mixed or inconclusive fundamentals suggesting to wait for clearer signals.\n",
      "\n",
      "Your assessment should:\n",
      "- Summarize key strengths and weaknesses.\n",
      "- Highlight significant red flags impacting the outlook.\n",
      "- Justify the regime classification clearly and succinctly.\n",
      "\n",
      "Metrics the user will input:\n",
      "    -GrossMargin: gross profit / total revenue \n",
      "    -OperatingMargin: operating income / total revenue\n",
      "    -NetProfitMargin: net income / total revenue\n",
      "    -EBITDAMargin: ebitda / total revenue\n",
      "    -ROA: net income / total assets\n",
      "    -ROE: net income / total equity\n",
      "    -FCFToRevenue: free cash flow / total revenue\n",
      "    -FCFYield: free cash flow / market capitalization\n",
      "    -FCFToDebt:: free cash flow / total debt\n",
      "    -DebtToEquity: total debt / total equity\n",
      "    -CurrentRatio: working capital / total liabilities\n",
      "\n",
      "\n",
      "\n"
     ]
    }
   ],
   "source": [
    "print(prompt_value.messages[0].content)"
   ]
  },
  {
   "cell_type": "code",
   "execution_count": 57,
   "id": "99f1374f",
   "metadata": {},
   "outputs": [
    {
     "name": "stdout",
     "output_type": "stream",
     "text": [
      "   ticker  time  GrossMargin  OperatingMargin  NetProfitMargin  EBITDAMargin  \\\n",
      "0  CPR.MI  2020          NaN              NaN              NaN           NaN   \n",
      "1  CPR.MI  2021     0.596861         0.184471         0.131081      0.228564   \n",
      "2  CPR.MI  2022     0.588857         0.204070         0.123443      0.221308   \n",
      "3  CPR.MI  2023     0.582505         0.207325         0.113239      0.221853   \n",
      "4  CPR.MI  2024     0.575542         0.193921         0.065672      0.160727   \n",
      "\n",
      "        ROA       ROE  FCFToRevenue  FCFYield  FCFtoDebt  DebtToEquity  \\\n",
      "0       NaN       NaN           NaN       NaN        NaN           NaN   \n",
      "1  0.055919  0.120078      0.155521  0.094584   0.220461      0.646218   \n",
      "2  0.055359  0.124430      0.009305  0.005846   0.014028      0.668597   \n",
      "3  0.049509  0.112984     -0.054410 -0.033986  -0.070456      0.770511   \n",
      "4  0.023764  0.052309      0.068539  0.033131   0.073474      0.743020   \n",
      "\n",
      "   CurrentRatio  \n",
      "0           NaN  \n",
      "1      0.355148  \n",
      "2      0.278036  \n",
      "3      0.318422  \n",
      "4      0.366508  \n"
     ]
    }
   ],
   "source": [
    "print(prompt_value.messages[1].content)"
   ]
  },
  {
   "cell_type": "code",
   "execution_count": null,
   "id": "1127f2e7",
   "metadata": {},
   "outputs": [],
   "source": [
    "from pydantic import BaseModel, Field\n",
    "from typing import Literal, List, Dict\n",
    "from langchain_core.output_parsers import PydanticOutputParser\n",
    "from langchain.output_parsers import OutputFixingParser\n",
    "\n",
    "from langchain_core.prompts import ChatPromptTemplate\n",
    "from langchain_openai import ChatOpenAI\n",
    "\n",
    "# Pydantic output model\n",
    "class StockRegimeAssessment(BaseModel):\n",
    "    regime: Literal[\"bull\", \"bear\", \"postpone\"] = Field(\n",
    "        ..., description=\"The fundamental regime classification of the stock\"\n",
    "    )\n",
    "    rationale: str = Field(\n",
    "        ..., description=\"Concise explanation justifying the regime classification\"\n",
    "    )\n",
    "    metrics_movement: Dict[str, str] = Field(\n",
    "            ..., description=(\n",
    "                \"Summary of how key financial metrics have moved across years. \"\n",
    "                \"Keys are metric names, values describe the movement, e.g., \"\n",
    "                \"'GrossMargin': 'increased steadily', 'DebtToEquity': 'rose sharply'\"\n",
    "            )\n",
    "        )\n",
    "\n",
    "\n",
    "# Instantiate the LLM (OpenAI GPT-4 or your preferred model)\n",
    "llm = ChatOpenAI(model=\"gpt-4.1-nano\", temperature=0)\n",
    "\n",
    "# Instantiate the parser with the Pydantic model\n",
    "parser = PydanticOutputParser(pydantic_object=StockRegimeAssessment)\n",
    "# Wrap your parser with OutputFixingParser\n",
    "parser = OutputFixingParser.from_llm(parser=parser, llm=llm)\n",
    "\n",
    "# Get the format instructions string from the parser\n",
    "format_instructions = parser.get_format_instructions()\n",
    "\n",
    "system_prompt_template = \"\"\"\n",
    "You are a trader assistant specializing in fundamental analysis. \n",
    "\n",
    "Based on the following financial data, provide a concise overall assessment that classifies \n",
    "the stock’s current fundamental regime as one of:\n",
    "\n",
    "- bull: Strong and improving fundamentals supporting a positive outlook.\n",
    "- bear: Weak or deteriorating fundamentals indicating risk or decline.\n",
    "- postpone: Mixed or inconclusive fundamentals suggesting to wait for clearer signals.\n",
    "\n",
    "Financial data constists of financial metrics, composite score and red flags.\n",
    "\n",
    "Profitability and Margin Metrics:\n",
    "    -GrossMargin: gross profit / total revenue \n",
    "    -OperatingMargin: operating income / total revenue\n",
    "    -NetProfitMargin: net income / total revenue\n",
    "    -EBITDAMargin: ebitda / total revenue\n",
    "Returns metrics:\n",
    "    -ROA: net income / total assets\n",
    "    -ROE: net income / total equity\n",
    "Cash Flow Strength metrics: \n",
    "    -FCFToRevenue: free cash flow / total revenue\n",
    "    -FCFYield: free cash flow / market capitalization\n",
    "    -FCFToDebt:: free cash flow / total debt\n",
    "Leverage & Solvency metrics:\n",
    "    -DebtToEquity: total debt / total equity\n",
    "Liquidity metrics:\n",
    "    -CurrentRatio: working capital / total liabilities\n",
    "\n",
    "The composite score is a weighted average (1 to 5) that summarizes the company’s overall fundamental health.\n",
    "It reflects profitability, efficiency, leverage, liquidity, and cash flow strength, based on the above mentioned financial metrics.\n",
    "\n",
    "Range:\n",
    "1 = Weak fundamentals\n",
    "5 = Strong fundamentals\n",
    "\n",
    "Each metric is scored on a 1–5 scale and multiplied by its weight. The composite score is the sum of weighted scores divided by the total weight.\n",
    "\n",
    "\n",
    "\n",
    "\"\"\"\n",
    "\n",
    "# Create a ChatPromptTemplate with system message and user input\n",
    "\n",
    "system_prompt_filled = system_prompt_template.format(format_instructions=format_instructions)\n",
    "\n",
    "prompt = ChatPromptTemplate.from_messages([\n",
    "    (\"system\", system_prompt_filled),\n",
    "    (\"human\", \"Metrics:\\n{metrics}\\nScores:\\n{scores}\"),\n",
    "])\n",
    "\n",
    "\n",
    "\n",
    "\n",
    "# Create a runnable chain: prompt followed by LLM invocation\n",
    "chain = prompt | llm | parser\n",
    "\n"
   ]
  },
  {
   "cell_type": "code",
   "execution_count": null,
   "id": "f9ea6cb0",
   "metadata": {},
   "outputs": [
    {
     "data": {
      "text/plain": [
       "StockRegimeAssessment(regime='postpone', rationale=\"The company's fundamental score has been gradually declining from 2021 through 2024, indicating weakening financial health. Key metrics such as profit margins, cash flow, and leverage ratios show deterioration, especially in free cash flow and debt levels. The declining composite score suggests that the company's fundamentals are weakening, and current indicators do not support a positive outlook.\", metrics_movement={'ProfitMargin': 'decreased steadily', 'CashFlow': 'declined over the period', 'DebtToEquity': 'rose sharply', 'FreeCashFlow': 'deteriorated significantly'})"
      ]
     },
     "execution_count": 72,
     "metadata": {},
     "output_type": "execute_result"
    }
   ],
   "source": [
    "import json\n",
    "\n",
    "metrics_str = json.dumps(metrics, indent=2)\n",
    "scores_str = json.dumps(composite_scores, indent=2)\n",
    "\n",
    "# Then invoke with a dict containing 'financial_data'\n",
    "response = chain.invoke({\n",
    "    \"metrics\": metrics_str,  \n",
    "    \"scores\": scores_str,    \n",
    "})\n",
    "\n",
    "response\n"
   ]
  },
  {
   "cell_type": "code",
   "execution_count": 79,
   "id": "f13fdb22",
   "metadata": {},
   "outputs": [
    {
     "data": {
      "text/plain": [
       "'[{\"ticker\":\"CPR.MI\",\"time\":2022,\"metrics\":\"FCFtoDebt\",\"red_flag\":\"Insufficient Free Cash Flow to cover debt\"},{\"ticker\":\"CPR.MI\",\"time\":2023,\"metrics\":\"FCFtoDebt\",\"red_flag\":\"Insufficient Free Cash Flow to cover debt\"},{\"ticker\":\"CPR.MI\",\"time\":2023,\"metrics\":\"rrf_fcf\",\"red_flag\":\"Negative Free Cash Flow\"},{\"ticker\":\"CPR.MI\",\"time\":2023,\"metrics\":\"ebitdaVSocf\",\"red_flag\":\"Earnings quality concern (EBITDA >> OCF)\"}]'"
      ]
     },
     "execution_count": 79,
     "metadata": {},
     "output_type": "execute_result"
    }
   ],
   "source": [
    "red_flags = pl.concat([\n",
    "    (pl.from_pandas(pd.read_excel('financialtools/data/red_flags.xlsx'))\n",
    "        .filter(pl.col(\"ticker\") == \"CPR.MI\")),\n",
    "    (pl.from_pandas(pd.read_excel('financialtools/data/raw_red_flags.xlsx'))\n",
    "        .filter(pl.col(\"ticker\") == \"CPR.MI\"))]\n",
    ").to_pandas()\n",
    "\n",
    "red_flags = red_flags.to_json(orient=\"records\") \n",
    "\n",
    "red_flags"
   ]
  },
  {
   "cell_type": "code",
   "execution_count": 82,
   "id": "3da71ce3",
   "metadata": {},
   "outputs": [
    {
     "data": {
      "text/plain": [
       "StockRegimeAssessment(regime='postpone', rationale=\"The company's declining fundamental score, persistent negative free cash flow, and rising debt levels indicate financial stress and increased risk. These red flags outweigh the modest profitability metrics, suggesting that the company is not currently in a stable or improving financial position.\", metrics_movement='Fundamental score declined from 3.0 in 2020 to 2.74 in 2024, free cash flow remained negative, and debt levels increased, signaling deteriorating financial health.', non_aligned_findings=None)"
      ]
     },
     "execution_count": 82,
     "metadata": {},
     "output_type": "execute_result"
    }
   ],
   "source": [
    "from pydantic import BaseModel, Field\n",
    "from typing import Literal, List, Dict, Optional\n",
    "from langchain_core.output_parsers import PydanticOutputParser\n",
    "from langchain.output_parsers import OutputFixingParser\n",
    "\n",
    "from langchain_core.prompts import ChatPromptTemplate\n",
    "from langchain_openai import ChatOpenAI\n",
    "\n",
    "# Pydantic output model\n",
    "class StockRegimeAssessment(BaseModel):\n",
    "    regime: Literal[\"bull\", \"bear\", \"postpone\"] = Field(\n",
    "        ..., description=\"The fundamental regime classification of the stock\"\n",
    "    )\n",
    "    rationale: str = Field(\n",
    "        ..., description=\"Concise explanation justifying the regime classification based on the financial metrics, composite ratio and red flags\"\n",
    "    )\n",
    "    metrics_movement: str = Field(\n",
    "        ..., description=(\n",
    "            \"A summary description of how key financial metrics have moved across years, \"\n",
    "            \"e.g., 'GrossMargin increased steadily, DebtToEquity rose sharply, FCFYield remained stable.'\"\n",
    "        )\n",
    "    )\n",
    "    non_aligned_findings: Optional[str] = Field(\n",
    "        None,\n",
    "        description=(\n",
    "            \"Observations or signals that are not aligned with the overall metric trends, \"\n",
    "            \"such as contradictory indicators, anomalies, or important red flags.\"\n",
    "        )\n",
    "    )\n",
    "\n",
    "\n",
    "# Instantiate the LLM (OpenAI GPT-4 or your preferred model)\n",
    "llm = ChatOpenAI(model=\"gpt-4.1-nano\", temperature=0)\n",
    "\n",
    "# Instantiate the parser with the Pydantic model\n",
    "parser = PydanticOutputParser(pydantic_object=StockRegimeAssessment)\n",
    "# Wrap your parser with OutputFixingParser\n",
    "parser = OutputFixingParser.from_llm(parser=parser, llm=llm)\n",
    "\n",
    "# Get the format instructions string from the parser\n",
    "format_instructions = parser.get_format_instructions()\n",
    "\n",
    "system_prompt_template = \"\"\"\n",
    "You are a trader assistant specializing in fundamental analysis. \n",
    "\n",
    "Based on the following financial data, provide a concise overall assessment that classifies \n",
    "the stock’s current fundamental regime as one of:\n",
    "\n",
    "- bull: Strong and improving fundamentals supporting a positive outlook.\n",
    "- bear: Weak or deteriorating fundamentals indicating risk or decline.\n",
    "- postpone: Mixed or inconclusive fundamentals suggesting to wait for clearer signals.\n",
    "\n",
    "Financial data constists of financial metrics, composite score and red flags.\n",
    "\n",
    "Profitability and Margin Metrics:\n",
    "    -GrossMargin: gross profit / total revenue \n",
    "    -OperatingMargin: operating income / total revenue\n",
    "    -NetProfitMargin: net income / total revenue\n",
    "    -EBITDAMargin: ebitda / total revenue\n",
    "Returns metrics:\n",
    "    -ROA: net income / total assets\n",
    "    -ROE: net income / total equity\n",
    "Cash Flow Strength metrics: \n",
    "    -FCFToRevenue: free cash flow / total revenue\n",
    "    -FCFYield: free cash flow / market capitalization\n",
    "    -FCFToDebt:: free cash flow / total debt\n",
    "Leverage & Solvency metrics:\n",
    "    -DebtToEquity: total debt / total equity\n",
    "Liquidity metrics:\n",
    "    -CurrentRatio: working capital / total liabilities\n",
    "\n",
    "The composite score is a weighted average (1 to 5) that summarizes the company’s overall fundamental health.\n",
    "It reflects profitability, efficiency, leverage, liquidity, and cash flow strength, based on the above mentioned financial metrics.\n",
    "\n",
    "Range:\n",
    "1 = Weak fundamentals\n",
    "5 = Strong fundamentals\n",
    "\n",
    "Each metric is scored on a 1–5 scale and multiplied by its weight. The composite score is the sum of weighted scores divided by the total weight.\n",
    "\n",
    "A red flag is an early warning signal that highlights potential weaknesses in a company’s financial statements \n",
    "or business quality. These warnings do not always mean immediate distress, but they indicate heightened risk that \n",
    "traders should carefully consider before taking a position.\n",
    "\n",
    "\"\"\"\n",
    "\n",
    "# Create a ChatPromptTemplate with system message and user input\n",
    "\n",
    "system_prompt_filled = system_prompt_template.format(format_instructions=format_instructions)\n",
    "\n",
    "prompt = ChatPromptTemplate.from_messages([\n",
    "    (\"system\", system_prompt_filled),\n",
    "    (\"human\", \"Metrics:\\n{metrics}\\nScores:\\n{scores}\\nRedFlags:\\n{red_flags}\"),\n",
    "])\n",
    "\n",
    "# Create a runnable chain: prompt followed by LLM invocation\n",
    "chain = prompt | llm | parser\n",
    "\n",
    "red_flags_str = json.dumps(red_flags, indent=2)\n",
    "\n",
    "# Then invoke with a dict containing 'financial_data'\n",
    "response = chain.invoke({\n",
    "    \"metrics\": metrics_str,  \n",
    "    \"scores\": scores_str,\n",
    "    \"red_flags\": red_flags_str,    \n",
    "})\n",
    "\n",
    "response"
   ]
  },
  {
   "cell_type": "code",
   "execution_count": null,
   "id": "f4277a0f",
   "metadata": {},
   "outputs": [],
   "source": []
  },
  {
   "cell_type": "code",
   "execution_count": 28,
   "id": "372facd6",
   "metadata": {},
   "outputs": [
    {
     "data": {
      "text/plain": [
       "[{'input': 'ticker'},\n",
       " {'input': 'date'},\n",
       " {'input': 'rclose'},\n",
       " {'input': 'ema_st'},\n",
       " {'input': 'ema_mt'},\n",
       " {'input': 'ema_lt'},\n",
       " {'input': 'spread_stmt'},\n",
       " {'input': 'spread_mtlt'},\n",
       " {'input': 'spread_stlt'},\n",
       " {'input': 'rrg'},\n",
       " {'input': 'RSI'}]"
      ]
     },
     "execution_count": 28,
     "metadata": {},
     "output_type": "execute_result"
    }
   ],
   "source": [
    "batch_inputs"
   ]
  },
  {
   "cell_type": "code",
   "execution_count": 20,
   "id": "9d653aa1",
   "metadata": {},
   "outputs": [],
   "source": [
    "\n",
    "\n",
    "# 8. Run batch in parallel\n",
    "results = chain.batch(batch_inputs)"
   ]
  }
 ],
 "metadata": {
  "kernelspec": {
   "display_name": "venv",
   "language": "python",
   "name": "python3"
  },
  "language_info": {
   "codemirror_mode": {
    "name": "ipython",
    "version": 3
   },
   "file_extension": ".py",
   "mimetype": "text/x-python",
   "name": "python",
   "nbconvert_exporter": "python",
   "pygments_lexer": "ipython3",
   "version": "3.12.6"
  }
 },
 "nbformat": 4,
 "nbformat_minor": 5
}
