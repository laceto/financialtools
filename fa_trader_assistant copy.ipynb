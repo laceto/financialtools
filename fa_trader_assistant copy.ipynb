{
 "cells": [
  {
   "cell_type": "code",
   "execution_count": 28,
   "id": "92d289c0",
   "metadata": {},
   "outputs": [],
   "source": [
    "\n",
    "from dotenv import load_dotenv, find_dotenv \n",
    "load_dotenv()\n",
    "\n",
    "import pandas as pd\n",
    "import polars as pl\n",
    "\n",
    "from financialtools.utils import *"
   ]
  },
  {
   "cell_type": "code",
   "execution_count": 29,
   "id": "9a9d40dd",
   "metadata": {},
   "outputs": [],
   "source": [
    "ticker = 'PRY.MI'\n",
    "\n",
    "metrics, composite_scores, red_flags = get_fin_data(ticker)"
   ]
  },
  {
   "cell_type": "code",
   "execution_count": 30,
   "id": "251cc6b6",
   "metadata": {},
   "outputs": [
    {
     "data": {
      "text/plain": [
       "'\"[{\\\\\"ticker\\\\\":\\\\\"PRY.MI\\\\\",\\\\\"time\\\\\":2020,\\\\\"GrossMargin\\\\\":null,\\\\\"OperatingMargin\\\\\":null,\\\\\"NetProfitMargin\\\\\":null,\\\\\"EBITDAMargin\\\\\":null,\\\\\"ROA\\\\\":null,\\\\\"ROE\\\\\":null,\\\\\"FCFToRevenue\\\\\":null,\\\\\"FCFYield\\\\\":null,\\\\\"FCFtoDebt\\\\\":null,\\\\\"DebtToEquity\\\\\":null,\\\\\"CurrentRatio\\\\\":null},{\\\\\"ticker\\\\\":\\\\\"PRY.MI\\\\\",\\\\\"time\\\\\":2021,\\\\\"GrossMargin\\\\\":0.32,\\\\\"OperatingMargin\\\\\":0.03,\\\\\"NetProfitMargin\\\\\":0.02,\\\\\"EBITDAMargin\\\\\":0.07,\\\\\"ROA\\\\\":0.03,\\\\\"ROE\\\\\":0.11,\\\\\"FCFToRevenue\\\\\":0.04,\\\\\"FCFYield\\\\\":0.09,\\\\\"FCFtoDebt\\\\\":0.13,\\\\\"DebtToEquity\\\\\":1.28,\\\\\"CurrentRatio\\\\\":0.09},{\\\\\"ticker\\\\\":\\\\\"PRY.MI\\\\\",\\\\\"time\\\\\":2022,\\\\\"GrossMargin\\\\\":0.34,\\\\\"OperatingMargin\\\\\":0.05,\\\\\"NetProfitMargin\\\\\":0.03,\\\\\"EBITDAMargin\\\\\":0.07,\\\\\"ROA\\\\\":0.04,\\\\\"ROE\\\\\":0.14,\\\\\"FCFToRevenue\\\\\":0.04,\\\\\"FCFYield\\\\\":0.09,\\\\\"FCFtoDebt\\\\\":0.19,\\\\\"DebtToEquity\\\\\":0.86,\\\\\"CurrentRatio\\\\\":0.13},{\\\\\"ticker\\\\\":\\\\\"PRY.MI\\\\\",\\\\\"time\\\\\":2023,\\\\\"GrossMargin\\\\\":0.37,\\\\\"OperatingMargin\\\\\":0.07,\\\\\"NetProfitMargin\\\\\":0.03,\\\\\"EBITDAMargin\\\\\":0.1,\\\\\"ROA\\\\\":0.04,\\\\\"ROE\\\\\":0.14,\\\\\"FCFToRevenue\\\\\":0.05,\\\\\"FCFYield\\\\\":0.13,\\\\\"FCFtoDebt\\\\\":0.26,\\\\\"DebtToEquity\\\\\":0.81,\\\\\"CurrentRatio\\\\\":0.12},{\\\\\"ticker\\\\\":\\\\\"PRY.MI\\\\\",\\\\\"time\\\\\":2024,\\\\\"GrossMargin\\\\\":0.37,\\\\\"OperatingMargin\\\\\":0.07,\\\\\"NetProfitMargin\\\\\":0.04,\\\\\"EBITDAMargin\\\\\":0.1,\\\\\"ROA\\\\\":0.04,\\\\\"ROE\\\\\":0.14,\\\\\"FCFToRevenue\\\\\":0.07,\\\\\"FCFYield\\\\\":0.11,\\\\\"FCFtoDebt\\\\\":0.21,\\\\\"DebtToEquity\\\\\":1.06,\\\\\"CurrentRatio\\\\\":0.08}]\"'"
      ]
     },
     "execution_count": 30,
     "metadata": {},
     "output_type": "execute_result"
    }
   ],
   "source": [
    "metrics"
   ]
  },
  {
   "cell_type": "code",
   "execution_count": 22,
   "id": "dd00567a",
   "metadata": {},
   "outputs": [
    {
     "data": {
      "text/plain": [
       "'\"[{\\\\\"ticker\\\\\":\\\\\"PRY.MI\\\\\",\\\\\"time\\\\\":2020,\\\\\"composite_score\\\\\":3.0},{\\\\\"ticker\\\\\":\\\\\"PRY.MI\\\\\",\\\\\"time\\\\\":2021,\\\\\"composite_score\\\\\":2.14},{\\\\\"ticker\\\\\":\\\\\"PRY.MI\\\\\",\\\\\"time\\\\\":2022,\\\\\"composite_score\\\\\":2.46},{\\\\\"ticker\\\\\":\\\\\"PRY.MI\\\\\",\\\\\"time\\\\\":2023,\\\\\"composite_score\\\\\":2.66},{\\\\\"ticker\\\\\":\\\\\"PRY.MI\\\\\",\\\\\"time\\\\\":2024,\\\\\"composite_score\\\\\":2.54}]\"'"
      ]
     },
     "execution_count": 22,
     "metadata": {},
     "output_type": "execute_result"
    }
   ],
   "source": [
    "composite_scores"
   ]
  },
  {
   "cell_type": "code",
   "execution_count": null,
   "id": "3376d95e",
   "metadata": {},
   "outputs": [],
   "source": [
    "red_flags"
   ]
  },
  {
   "cell_type": "code",
   "execution_count": null,
   "id": "3da71ce3",
   "metadata": {},
   "outputs": [
    {
     "data": {
      "text/plain": [
       "StockRegimeAssessment(regime='postpone', rationale=\"Financial metrics show weak to moderate fundamentals with no clear signs of consistent improvement. Composite scores fluctuate around the mid-2s, indicating limited strength. No red flags are present, but vulnerabilities in liquidity and leverage suggest caution. Therefore, the regime is classified as 'postpone' to wait for clearer positive signals.\", metrics_movement='Profitability, cash flow, and leverage metrics have shown modest and inconsistent changes over the years, with no sustained upward trend. Composite scores remain around the mid-2s, reflecting weak to moderate fundamentals.', non_aligned_findings=None)"
      ]
     },
     "execution_count": 20,
     "metadata": {},
     "output_type": "execute_result"
    }
   ],
   "source": [
    "from pydantic import BaseModel, Field\n",
    "from typing import Literal, List, Dict, Optional\n",
    "from langchain_core.output_parsers import PydanticOutputParser\n",
    "from langchain.output_parsers import OutputFixingParser\n",
    "\n",
    "from langchain_core.prompts import ChatPromptTemplate\n",
    "from langchain_openai import ChatOpenAI\n",
    "\n",
    "# Pydantic output model\n",
    "class StockRegimeAssessment(BaseModel):\n",
    "    regime: Literal[\"bull\", \"bear\", \"postpone\"] = Field(\n",
    "        ..., description=\"The fundamental regime classification of the stock\"\n",
    "    )\n",
    "    rationale: str = Field(\n",
    "        ..., description=\"Concise explanation justifying the regime classification based on the financial metrics, composite ratio and red flags\"\n",
    "    )\n",
    "    metrics_movement: str = Field(\n",
    "        ..., description=(\n",
    "            \"A summary description of how key financial metrics have moved across years, \"\n",
    "            \"e.g., 'GrossMargin increased steadily, DebtToEquity rose sharply, FCFYield remained stable.'\"\n",
    "        )\n",
    "    )\n",
    "    non_aligned_findings: Optional[str] = Field(\n",
    "        None,\n",
    "        description=(\n",
    "            \"Observations or signals that are not aligned with the overall metric trends, \"\n",
    "            \"such as contradictory indicators, anomalies, or important red flags.\"\n",
    "        )\n",
    "    )\n",
    "\n",
    "\n",
    "# Instantiate the LLM (OpenAI GPT-4 or your preferred model)\n",
    "llm = ChatOpenAI(model=\"gpt-4.1-nano\", temperature=0)\n",
    "\n",
    "# Instantiate the parser with the Pydantic model\n",
    "parser = PydanticOutputParser(pydantic_object=StockRegimeAssessment)\n",
    "# Wrap your parser with OutputFixingParser\n",
    "parser = OutputFixingParser.from_llm(parser=parser, llm=llm)\n",
    "\n",
    "# Get the format instructions string from the parser\n",
    "format_instructions = parser.get_format_instructions()\n",
    "\n",
    "system_prompt_template = \"\"\"\n",
    "You are a trader assistant specializing in fundamental analysis. \n",
    "\n",
    "Based on the following financial data, provide a concise overall assessment that classifies \n",
    "the stock’s current fundamental regime as one of:\n",
    "\n",
    "- bull: Strong and improving fundamentals supporting a positive outlook.\n",
    "- bear: Weak or deteriorating fundamentals indicating risk or decline.\n",
    "- postpone: Mixed or inconclusive fundamentals suggesting to wait for clearer signals.\n",
    "\n",
    "Financial data constists of financial metrics, composite score and red flags.\n",
    "\n",
    "Profitability and Margin Metrics:\n",
    "    -GrossMargin: gross profit / total revenue \n",
    "    -OperatingMargin: operating income / total revenue\n",
    "    -NetProfitMargin: net income / total revenue\n",
    "    -EBITDAMargin: ebitda / total revenue\n",
    "Returns metrics:\n",
    "    -ROA: net income / total assets\n",
    "    -ROE: net income / total equity\n",
    "Cash Flow Strength metrics: \n",
    "    -FCFToRevenue: free cash flow / total revenue\n",
    "    -FCFYield: free cash flow / market capitalization\n",
    "    -FCFToDebt:: free cash flow / total debt\n",
    "Leverage & Solvency metrics:\n",
    "    -DebtToEquity: total debt / total equity\n",
    "Liquidity metrics:\n",
    "    -CurrentRatio: working capital / total liabilities\n",
    "\n",
    "The composite score is a weighted average (1 to 5) that summarizes the company’s overall fundamental health.\n",
    "It reflects profitability, efficiency, leverage, liquidity, and cash flow strength, based on the above mentioned financial metrics.\n",
    "\n",
    "Range:\n",
    "1 = Weak fundamentals\n",
    "5 = Strong fundamentals\n",
    "\n",
    "Each metric is scored on a 1–5 scale and multiplied by its weight. The composite score is the sum of weighted scores divided by the total weight.\n",
    "\n",
    "A red flag is an early warning signal that highlights potential weaknesses in a company’s financial statements \n",
    "or business quality. These warnings do not always mean immediate distress, but they indicate heightened risk that \n",
    "traders should carefully consider before taking a position.\n",
    "\n",
    "\"\"\"\n",
    "\n",
    "# Create a ChatPromptTemplate with system message and user input\n",
    "\n",
    "system_prompt_filled = system_prompt_template.format(format_instructions=format_instructions)\n",
    "\n",
    "prompt = ChatPromptTemplate.from_messages([\n",
    "    (\"system\", system_prompt_filled),\n",
    "    (\"human\", \"Metrics:\\n{metrics}\\nScores:\\n{scores}\\nRedFlags:\\n{red_flags}\"),\n",
    "])\n",
    "\n",
    "# Create a runnable chain: prompt followed by LLM invocation\n",
    "chain = prompt | llm | parser\n",
    "\n",
    "\n",
    "# Then invoke with a dict containing 'financial_data'\n",
    "response = chain.invoke({\n",
    "    \"metrics\": metrics,  \n",
    "    \"scores\": composite_scores,\n",
    "    \"red_flags\": red_flags,    \n",
    "})\n"
   ]
  },
  {
   "cell_type": "code",
   "execution_count": 21,
   "id": "085bf00f",
   "metadata": {},
   "outputs": [
    {
     "data": {
      "text/html": [
       "<pre style=\"white-space:pre;overflow-x:auto;line-height:normal;font-family:Menlo,'DejaVu Sans Mono',consolas,'Courier New',monospace\"><span style=\"color: #800080; text-decoration-color: #800080; font-weight: bold\">StockRegimeAssessment</span><span style=\"font-weight: bold\">(</span>\n",
       "    <span style=\"color: #808000; text-decoration-color: #808000\">regime</span>=<span style=\"color: #008000; text-decoration-color: #008000\">'postpone'</span>,\n",
       "    <span style=\"color: #808000; text-decoration-color: #808000\">rationale</span>=<span style=\"color: #008000; text-decoration-color: #008000\">\"Financial metrics show weak to moderate fundamentals with no clear signs of consistent improvement. </span>\n",
       "<span style=\"color: #008000; text-decoration-color: #008000\">Composite scores fluctuate around the mid-2s, indicating limited strength. No red flags are present, but </span>\n",
       "<span style=\"color: #008000; text-decoration-color: #008000\">vulnerabilities in liquidity and leverage suggest caution. Therefore, the regime is classified as 'postpone' to </span>\n",
       "<span style=\"color: #008000; text-decoration-color: #008000\">wait for clearer positive signals.\"</span>,\n",
       "    <span style=\"color: #808000; text-decoration-color: #808000\">metrics_movement</span>=<span style=\"color: #008000; text-decoration-color: #008000\">'Profitability, cash flow, and leverage metrics have shown modest and inconsistent changes </span>\n",
       "<span style=\"color: #008000; text-decoration-color: #008000\">over the years, with no sustained upward trend. Composite scores remain around the mid-2s, reflecting weak to </span>\n",
       "<span style=\"color: #008000; text-decoration-color: #008000\">moderate fundamentals.'</span>,\n",
       "    <span style=\"color: #808000; text-decoration-color: #808000\">non_aligned_findings</span>=<span style=\"color: #800080; text-decoration-color: #800080; font-style: italic\">None</span>\n",
       "<span style=\"font-weight: bold\">)</span>\n",
       "</pre>\n"
      ],
      "text/plain": [
       "\u001b[1;35mStockRegimeAssessment\u001b[0m\u001b[1m(\u001b[0m\n",
       "    \u001b[33mregime\u001b[0m=\u001b[32m'postpone'\u001b[0m,\n",
       "    \u001b[33mrationale\u001b[0m=\u001b[32m\"Financial\u001b[0m\u001b[32m metrics show weak to moderate fundamentals with no clear signs of consistent improvement. \u001b[0m\n",
       "\u001b[32mComposite scores fluctuate around the mid-2s, indicating limited strength. No red flags are present, but \u001b[0m\n",
       "\u001b[32mvulnerabilities in liquidity and leverage suggest caution. Therefore, the regime is classified as 'postpone' to \u001b[0m\n",
       "\u001b[32mwait for clearer positive signals.\"\u001b[0m,\n",
       "    \u001b[33mmetrics_movement\u001b[0m=\u001b[32m'Profitability, cash flow, and leverage metrics have shown modest and inconsistent changes \u001b[0m\n",
       "\u001b[32mover the years, with no sustained upward trend. Composite scores remain around the mid-2s, reflecting weak to \u001b[0m\n",
       "\u001b[32mmoderate fundamentals.'\u001b[0m,\n",
       "    \u001b[33mnon_aligned_findings\u001b[0m=\u001b[3;35mNone\u001b[0m\n",
       "\u001b[1m)\u001b[0m\n"
      ]
     },
     "metadata": {},
     "output_type": "display_data"
    }
   ],
   "source": [
    "import rich\n",
    "\n",
    "rich.print(response)"
   ]
  }
 ],
 "metadata": {
  "kernelspec": {
   "display_name": "venv",
   "language": "python",
   "name": "python3"
  },
  "language_info": {
   "codemirror_mode": {
    "name": "ipython",
    "version": 3
   },
   "file_extension": ".py",
   "mimetype": "text/x-python",
   "name": "python",
   "nbconvert_exporter": "python",
   "pygments_lexer": "ipython3",
   "version": "3.12.6"
  }
 },
 "nbformat": 4,
 "nbformat_minor": 5
}
