{
 "cells": [
  {
   "cell_type": "code",
   "execution_count": 1,
   "id": "92d289c0",
   "metadata": {},
   "outputs": [],
   "source": [
    "\n",
    "# import pandas as pd\n",
    "# import polars as pl\n",
    "\n",
    "from dotenv import load_dotenv \n",
    "load_dotenv()\n",
    "\n",
    "from langchain_core.output_parsers import PydanticOutputParser\n",
    "from langchain.output_parsers import OutputFixingParser\n",
    "from langchain_core.prompts import ChatPromptTemplate\n",
    "from langchain_openai import ChatOpenAI\n",
    "\n",
    "from financialtools.wrappers import read_financial_results\n",
    "from financialtools.pydantic_models import StockRegimeAssessment\n",
    "from financialtools.prompts import system_prompt_StockRegimeAssessment\n",
    "from financialtools.utils import get_sector_for_ticker, get_market_metrics, dataframe_to_json"
   ]
  },
  {
   "cell_type": "code",
   "execution_count": 2,
   "id": "9a9d40dd",
   "metadata": {},
   "outputs": [],
   "source": [
    "ticker = 'ISP.MI'\n",
    "# year = 2024\n",
    "\n",
    "metrics, eval_metrics, composite_scores, red_flags = read_financial_results(\n",
    "    ticker=ticker,\n",
    "    # time=year,\n",
    "    input_dir='financial_data', \n",
    "    sheet_name='sheet1')"
   ]
  },
  {
   "cell_type": "code",
   "execution_count": 3,
   "id": "f8b6b75f",
   "metadata": {},
   "outputs": [],
   "source": [
    "sector = get_sector_for_ticker(ticker)\n",
    "\n",
    "market_metrics = get_market_metrics(\n",
    "    file_path='financial_data/metrics_by_sectors.xlsx',\n",
    "    sector=sector)\n",
    "\n",
    "eval_market_metrics = get_market_metrics(\n",
    "    file_path='financial_data/eval_metrics_by_sectors.xlsx',\n",
    "    sector=sector)"
   ]
  },
  {
   "cell_type": "code",
   "execution_count": 4,
   "id": "1e1cafd4",
   "metadata": {},
   "outputs": [],
   "source": [
    "metrics, eval_metrics, composite_scores, red_flags, market_metrics, eval_market_metrics = [\n",
    "    dataframe_to_json(df)\n",
    "    for df in [metrics, eval_metrics, composite_scores, red_flags, market_metrics, eval_market_metrics]\n",
    "]"
   ]
  },
  {
   "cell_type": "code",
   "execution_count": 5,
   "id": "3da71ce3",
   "metadata": {},
   "outputs": [],
   "source": [
    "\n",
    "# Instantiate the LLM (OpenAI GPT-4 or your preferred model)\n",
    "llm = ChatOpenAI(model=\"gpt-4.1-nano\", temperature=0)\n",
    "\n",
    "# Instantiate the parser with the Pydantic model\n",
    "parser = PydanticOutputParser(pydantic_object=StockRegimeAssessment)\n",
    "# Wrap your parser with OutputFixingParser\n",
    "parser = OutputFixingParser.from_llm(parser=parser, llm=llm)\n",
    "\n",
    "# Get the format instructions string from the parser\n",
    "format_instructions = parser.get_format_instructions()\n",
    "\n",
    "# Create a ChatPromptTemplate with system message and user input\n",
    "\n",
    "system_prompt_filled = system_prompt_StockRegimeAssessment.format(format_instructions=format_instructions)\n",
    "\n",
    "prompt = ChatPromptTemplate.from_messages([\n",
    "    (\"system\", system_prompt_filled),\n",
    "    (\"human\", \"Metrics:\\n{metrics}\\nScores:\\n{composite_scores}\\nEvaluation Metrics:\\n{eval_metrics}\\nRedFlags:\\n{red_flags}\\nMarket metrics:{market_metrics}\\nMarket evaluation metrics:{eval_market_metrics}\"),\n",
    "])\n",
    "\n",
    "# Create a runnable chain: prompt followed by LLM invocation\n",
    "chain = prompt | llm | parser\n",
    "\n",
    "\n",
    "# Then invoke with a dict containing 'financial_data'\n",
    "response = chain.invoke({\n",
    "    \"metrics\": metrics,  \n",
    "    \"eval_metrics\": eval_metrics,\n",
    "    \"composite_scores\": composite_scores,\n",
    "    \"red_flags\": red_flags,   \n",
    "    \"market_metrics\": market_metrics, \n",
    "    \"eval_market_metrics\": eval_market_metrics\n",
    "})\n"
   ]
  },
  {
   "cell_type": "code",
   "execution_count": 6,
   "id": "085bf00f",
   "metadata": {},
   "outputs": [
    {
     "data": {
      "text/html": [
       "<pre style=\"white-space:pre;overflow-x:auto;line-height:normal;font-family:Menlo,'DejaVu Sans Mono',consolas,'Courier New',monospace\"><span style=\"color: #800080; text-decoration-color: #800080; font-weight: bold\">StockRegimeAssessment</span><span style=\"font-weight: bold\">(</span>\n",
       "    <span style=\"color: #808000; text-decoration-color: #808000\">ticker</span>=<span style=\"color: #008000; text-decoration-color: #008000\">'XYZ'</span>,\n",
       "    <span style=\"color: #808000; text-decoration-color: #808000\">regime</span>=<span style=\"color: #008000; text-decoration-color: #008000\">'bear'</span>,\n",
       "    <span style=\"color: #808000; text-decoration-color: #808000\">regime_rationale</span>=<span style=\"color: #008000; text-decoration-color: #008000\">\"The company's fundamentals have weakened significantly, with declining composite scores, high</span>\n",
       "<span style=\"color: #008000; text-decoration-color: #008000\">and increasing debt-to-equity ratios exceeding 2, and negative cash flows in recent years. These indicators point </span>\n",
       "<span style=\"color: #008000; text-decoration-color: #008000\">to financial distress and increased risk, justifying a bear regime.\"</span>,\n",
       "    <span style=\"color: #808000; text-decoration-color: #808000\">metrics_movement</span>=<span style=\"color: #008000; text-decoration-color: #008000\">'Composite score declined from 3.0 in 2020 to 2.14 in 2024, debt-to-equity ratio increased </span>\n",
       "<span style=\"color: #008000; text-decoration-color: #008000\">above 2, free cash flow remained negative in 2023 and 2024, profit margins and return ratios stayed modest, cash </span>\n",
       "<span style=\"color: #008000; text-decoration-color: #008000\">flow metrics deteriorated.'</span>,\n",
       "    <span style=\"color: #808000; text-decoration-color: #808000\">non_aligned_findings</span>=<span style=\"color: #800080; text-decoration-color: #800080; font-style: italic\">None</span>,\n",
       "    <span style=\"color: #808000; text-decoration-color: #808000\">evaluation</span>=<span style=\"color: #008000; text-decoration-color: #008000\">'undervaluated'</span>,\n",
       "    <span style=\"color: #808000; text-decoration-color: #808000\">evaluation_rationale</span>=<span style=\"color: #008000; text-decoration-color: #008000\">'Despite being undervalued relative to sector averages, the deteriorating financial </span>\n",
       "<span style=\"color: #008000; text-decoration-color: #008000\">health, high leverage, and negative cash flows indicate increased risk, justifying an undervalued assessment with </span>\n",
       "<span style=\"color: #008000; text-decoration-color: #008000\">caution.'</span>,\n",
       "    <span style=\"color: #808000; text-decoration-color: #808000\">market_comparison</span>=<span style=\"color: #008000; text-decoration-color: #008000\">\"The stock's valuation metrics are below sector averages, but the declining fundamentals and </span>\n",
       "<span style=\"color: #008000; text-decoration-color: #008000\">red flags suggest caution despite the undervaluation.\"</span>\n",
       "<span style=\"font-weight: bold\">)</span>\n",
       "</pre>\n"
      ],
      "text/plain": [
       "\u001b[1;35mStockRegimeAssessment\u001b[0m\u001b[1m(\u001b[0m\n",
       "    \u001b[33mticker\u001b[0m=\u001b[32m'XYZ'\u001b[0m,\n",
       "    \u001b[33mregime\u001b[0m=\u001b[32m'bear'\u001b[0m,\n",
       "    \u001b[33mregime_rationale\u001b[0m=\u001b[32m\"The\u001b[0m\u001b[32m company's fundamentals have weakened significantly, with declining composite scores, high\u001b[0m\n",
       "\u001b[32mand increasing debt-to-equity ratios exceeding 2, and negative cash flows in recent years. These indicators point \u001b[0m\n",
       "\u001b[32mto financial distress and increased risk, justifying a bear regime.\"\u001b[0m,\n",
       "    \u001b[33mmetrics_movement\u001b[0m=\u001b[32m'Composite score declined from 3.0 in 2020 to 2.14 in 2024, debt-to-equity ratio increased \u001b[0m\n",
       "\u001b[32mabove 2, free cash flow remained negative in 2023 and 2024, profit margins and return ratios stayed modest, cash \u001b[0m\n",
       "\u001b[32mflow metrics deteriorated.'\u001b[0m,\n",
       "    \u001b[33mnon_aligned_findings\u001b[0m=\u001b[3;35mNone\u001b[0m,\n",
       "    \u001b[33mevaluation\u001b[0m=\u001b[32m'undervaluated'\u001b[0m,\n",
       "    \u001b[33mevaluation_rationale\u001b[0m=\u001b[32m'Despite being undervalued relative to sector averages, the deteriorating financial \u001b[0m\n",
       "\u001b[32mhealth, high leverage, and negative cash flows indicate increased risk, justifying an undervalued assessment with \u001b[0m\n",
       "\u001b[32mcaution.'\u001b[0m,\n",
       "    \u001b[33mmarket_comparison\u001b[0m=\u001b[32m\"The\u001b[0m\u001b[32m stock's valuation metrics are below sector averages, but the declining fundamentals and \u001b[0m\n",
       "\u001b[32mred flags suggest caution despite the undervaluation.\"\u001b[0m\n",
       "\u001b[1m)\u001b[0m\n"
      ]
     },
     "metadata": {},
     "output_type": "display_data"
    }
   ],
   "source": [
    "import rich\n",
    "\n",
    "rich.print(response)"
   ]
  },
  {
   "cell_type": "code",
   "execution_count": 1,
   "id": "c3bdba5f",
   "metadata": {},
   "outputs": [
    {
     "data": {
      "text/html": [
       "<pre style=\"white-space:pre;overflow-x:auto;line-height:normal;font-family:Menlo,'DejaVu Sans Mono',consolas,'Courier New',monospace\"><span style=\"color: #800080; text-decoration-color: #800080; font-weight: bold\">StockRegimeAssessment</span><span style=\"font-weight: bold\">(</span>\n",
       "    <span style=\"color: #808000; text-decoration-color: #808000\">ticker</span>=<span style=\"color: #008000; text-decoration-color: #008000\">'XYZ'</span>,\n",
       "    <span style=\"color: #808000; text-decoration-color: #808000\">regime</span>=<span style=\"color: #008000; text-decoration-color: #008000\">'bear'</span>,\n",
       "    <span style=\"color: #808000; text-decoration-color: #808000\">regime_rationale</span>=<span style=\"color: #008000; text-decoration-color: #008000\">\"The company's financial metrics show declining profitability, high valuation ratios, and red </span>\n",
       "<span style=\"color: #008000; text-decoration-color: #008000\">flags such as negative net profit margin, ROA, and ROE in 2022. Despite some improvements in cash flow and debt </span>\n",
       "<span style=\"color: #008000; text-decoration-color: #008000\">levels in 2024, overall fundamentals remain weak, indicating a bearish regime.\"</span>,\n",
       "    <span style=\"color: #808000; text-decoration-color: #808000\">metrics_movement</span>=<span style=\"color: #008000; text-decoration-color: #008000\">'GrossMargin declined, DebtToEquity increased, NetProfitMargin turned negative in 2022, ROA </span>\n",
       "<span style=\"color: #008000; text-decoration-color: #008000\">and ROE dropped sharply, FCFYield remained low, and P/E ratios stayed high.'</span>,\n",
       "    <span style=\"color: #808000; text-decoration-color: #808000\">non_aligned_findings</span>=<span style=\"color: #800080; text-decoration-color: #800080; font-style: italic\">None</span>,\n",
       "    <span style=\"color: #808000; text-decoration-color: #808000\">evaluation</span>=<span style=\"color: #008000; text-decoration-color: #008000\">'overvaluated'</span>,\n",
       "    <span style=\"color: #808000; text-decoration-color: #808000\">evaluation_rationale</span>=<span style=\"color: #008000; text-decoration-color: #008000\">'High valuation ratios combined with weak profitability metrics and red flags suggest the </span>\n",
       "<span style=\"color: #008000; text-decoration-color: #008000\">stock is overvalued and not supported by strong fundamentals.'</span>,\n",
       "    <span style=\"color: #808000; text-decoration-color: #808000\">market_comparison</span>=<span style=\"color: #008000; text-decoration-color: #008000\">\"The company's profitability and cash flow metrics lag behind sector averages, reinforcing </span>\n",
       "<span style=\"color: #008000; text-decoration-color: #008000\">concerns about overvaluation and weak financial health.\"</span>\n",
       "<span style=\"font-weight: bold\">)</span>\n",
       "</pre>\n"
      ],
      "text/plain": [
       "\u001b[1;35mStockRegimeAssessment\u001b[0m\u001b[1m(\u001b[0m\n",
       "    \u001b[33mticker\u001b[0m=\u001b[32m'XYZ'\u001b[0m,\n",
       "    \u001b[33mregime\u001b[0m=\u001b[32m'bear'\u001b[0m,\n",
       "    \u001b[33mregime_rationale\u001b[0m=\u001b[32m\"The\u001b[0m\u001b[32m company's financial metrics show declining profitability, high valuation ratios, and red \u001b[0m\n",
       "\u001b[32mflags such as negative net profit margin, ROA, and ROE in 2022. Despite some improvements in cash flow and debt \u001b[0m\n",
       "\u001b[32mlevels in 2024, overall fundamentals remain weak, indicating a bearish regime.\"\u001b[0m,\n",
       "    \u001b[33mmetrics_movement\u001b[0m=\u001b[32m'GrossMargin declined, DebtToEquity increased, NetProfitMargin turned negative in 2022, ROA \u001b[0m\n",
       "\u001b[32mand ROE dropped sharply, FCFYield remained low, and P/E ratios stayed high.'\u001b[0m,\n",
       "    \u001b[33mnon_aligned_findings\u001b[0m=\u001b[3;35mNone\u001b[0m,\n",
       "    \u001b[33mevaluation\u001b[0m=\u001b[32m'overvaluated'\u001b[0m,\n",
       "    \u001b[33mevaluation_rationale\u001b[0m=\u001b[32m'High valuation ratios combined with weak profitability metrics and red flags suggest the \u001b[0m\n",
       "\u001b[32mstock is overvalued and not supported by strong fundamentals.'\u001b[0m,\n",
       "    \u001b[33mmarket_comparison\u001b[0m=\u001b[32m\"The\u001b[0m\u001b[32m company's profitability and cash flow metrics lag behind sector averages, reinforcing \u001b[0m\n",
       "\u001b[32mconcerns about overvaluation and weak financial health.\"\u001b[0m\n",
       "\u001b[1m)\u001b[0m\n"
      ]
     },
     "metadata": {},
     "output_type": "display_data"
    }
   ],
   "source": [
    "import rich\n",
    "from financialtools.chains import get_stock_evaluation_report\n",
    "ticker = 'AVIO.MI'\n",
    "\n",
    "rich.print(get_stock_evaluation_report(ticker)\n",
    ")\n",
    "    "
   ]
  }
 ],
 "metadata": {
  "kernelspec": {
   "display_name": "venv",
   "language": "python",
   "name": "python3"
  },
  "language_info": {
   "codemirror_mode": {
    "name": "ipython",
    "version": 3
   },
   "file_extension": ".py",
   "mimetype": "text/x-python",
   "name": "python",
   "nbconvert_exporter": "python",
   "pygments_lexer": "ipython3",
   "version": "3.12.6"
  }
 },
 "nbformat": 4,
 "nbformat_minor": 5
}
